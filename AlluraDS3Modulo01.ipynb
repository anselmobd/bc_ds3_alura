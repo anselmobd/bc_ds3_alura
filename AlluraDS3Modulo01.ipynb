{
  "nbformat": 4,
  "nbformat_minor": 0,
  "metadata": {
    "colab": {
      "name": "AlluraDS3Modulo01.ipynb",
      "provenance": [],
      "toc_visible": true,
      "authorship_tag": "ABX9TyMlGcDtq9bv64hM2g/m2dlj",
      "include_colab_link": true
    },
    "kernelspec": {
      "name": "python3",
      "display_name": "Python 3"
    },
    "language_info": {
      "name": "python"
    }
  },
  "cells": [
    {
      "cell_type": "markdown",
      "metadata": {
        "id": "view-in-github",
        "colab_type": "text"
      },
      "source": [
        "<a href=\"https://colab.research.google.com/github/anselmobd/bc_ds3_alura/blob/main/AlluraDS3Modulo01.ipynb\" target=\"_parent\"><img src=\"https://colab.research.google.com/assets/colab-badge.svg\" alt=\"Open In Colab\"/></a>"
      ]
    },
    {
      "cell_type": "markdown",
      "metadata": {
        "id": "1REI7HcP5E8u"
      },
      "source": [
        "#Leptospirose\n",
        "\n",
        "\"A leptospirose é uma doença infecciosa febril aguda que resulta da exposição direta ou indireta a urina de animais (principalmente ratos) infectados pela bactéria Leptospira; sua penetração ocorre através da pele com lesões, pele íntegra imersa por longos períodos em água contaminada ou através de mucosas.\"\n",
        "\n",
        "\"No Brasil, a leptospirose é uma doença endêmica, tornando-se epidêmica em períodos chuvosos, principalmente nas capitais e áreas metropolitanas, devido às enchentes associadas à aglomeração populacional de baixa renda, às condições inadequadas de saneamento e à alta infestação de roedores infectados.\"\n",
        "\n",
        "Fonte: https://antigo.saude.gov.br/saude-de-a-z/leptospirose (acessado em 12/11/2021)"
      ]
    },
    {
      "cell_type": "markdown",
      "metadata": {
        "id": "n07Mp0r04NLy"
      },
      "source": [
        "#Motivação do estudo\n",
        "\n",
        "Verificar a relação entre o número de casos de leptospirose os períodos chuvosos e áreas metropolitanas.\n",
        "\n",
        "Obs.: Por dificuldade de encontrar dados totalizadores sobre chuva por ano ou por UF, me ative à análise ligada aos dados populacionais."
      ]
    },
    {
      "cell_type": "markdown",
      "metadata": {
        "id": "uTcn0DRu5fTK"
      },
      "source": [
        "#Dados\n",
        "##Saúde\n",
        "- Site/Banco de dados: TABNET\n",
        "  - Tabulador de dados do Sistema Único de Saúde – SUS\n",
        "- Tabela\n",
        "  - Casos confirmados de leptospirose por Ano 1º Sintoma(s) segundo UF de notificação.\n",
        "  - Evolução: Cura\n",
        "  - Período: 2007-2019\n",
        "- Link direto\n",
        "  - http://tabnet.datasus.gov.br/cgi/tabcgi.exe?sinannet/cnv/leptobr.def\n",
        "- Arquivo salvo no Google drive, compartilhado com o link\n",
        "  - https://drive.google.com/file/d/1QbXKpo6W5FBeDvjlXvQ4v29D8cfj5s3O/view?usp=sharing\n",
        "\n",
        "##População\n",
        "- Site/Banco de dados: IBGE\n",
        "  - Instituto Brasileiro de Geografia e Estatistica\n",
        "- População residente estimada 2019\n",
        "  - Link\n",
        "    - https://sidra.ibge.gov.br/tabela/6579\n",
        "  - Arquivo salvo no Google drive, compartilhado com o link\n",
        "    - https://drive.google.com/file/d/1Ys8btmvHvCULkq8_h28HAVFLJcPClGzr/view?usp=sharing\n",
        "- Regiões Metropolitanas, Aglomerações Urbanas e RIDEs  - Link\n",
        "    - https://www.ibge.gov.br/geociencias/organizacao-do-territorio/estrutura-territorial/18354-regioes-metropolitanas-aglomeracoes-urbanas-e-regioes-integradas-de-desenvolvimento.html\n",
        "  - Arquivo salvo no Google drive, compartilhado com o link\n",
        "    - https://docs.google.com/spreadsheets/d/1zZFXiUXZsjRKaHKz-syPowm3um0UnjtH/edit?usp=sharing"
      ]
    },
    {
      "cell_type": "markdown",
      "metadata": {
        "id": "-6R4lrVtwMoP"
      },
      "source": [
        "#Passos"
      ]
    },
    {
      "cell_type": "markdown",
      "metadata": {
        "id": "lNbLIbRWT_be"
      },
      "source": [
        "###Imports"
      ]
    },
    {
      "cell_type": "code",
      "metadata": {
        "id": "mGYKtaYCIpcA"
      },
      "source": [
        "import pandas as pd\n",
        "import matplotlib.pyplot as plt\n",
        "import re"
      ],
      "execution_count": 1,
      "outputs": []
    },
    {
      "cell_type": "markdown",
      "metadata": {
        "id": "e2BSm7MiUCeG"
      },
      "source": [
        "##Carregando dados de leptospirose"
      ]
    },
    {
      "cell_type": "code",
      "metadata": {
        "id": "5VF7EtS65BtC"
      },
      "source": [
        "url = \"https://drive.google.com/uc?id=1QbXKpo6W5FBeDvjlXvQ4v29D8cfj5s3O\"\n",
        "dados_crus = pd.read_csv(url, encoding=\"UTF-8\", sep=\";\");"
      ],
      "execution_count": 2,
      "outputs": []
    },
    {
      "cell_type": "markdown",
      "metadata": {
        "id": "uoySzswbUITf"
      },
      "source": [
        "###Visualisando primeiras e últimas linhas"
      ]
    },
    {
      "cell_type": "code",
      "metadata": {
        "colab": {
          "base_uri": "https://localhost:8080/",
          "height": 244
        },
        "id": "haPUhY1MJQp5",
        "outputId": "990d074b-e844-4152-ae01-d221c6295fc2"
      },
      "source": [
        "dados_crus.head()"
      ],
      "execution_count": 3,
      "outputs": [
        {
          "output_type": "execute_result",
          "data": {
            "text/html": [
              "<div>\n",
              "<style scoped>\n",
              "    .dataframe tbody tr th:only-of-type {\n",
              "        vertical-align: middle;\n",
              "    }\n",
              "\n",
              "    .dataframe tbody tr th {\n",
              "        vertical-align: top;\n",
              "    }\n",
              "\n",
              "    .dataframe thead th {\n",
              "        text-align: right;\n",
              "    }\n",
              "</style>\n",
              "<table border=\"1\" class=\"dataframe\">\n",
              "  <thead>\n",
              "    <tr style=\"text-align: right;\">\n",
              "      <th></th>\n",
              "      <th>UF de notificação</th>\n",
              "      <th>&lt;1975</th>\n",
              "      <th>1976</th>\n",
              "      <th>1978</th>\n",
              "      <th>1979</th>\n",
              "      <th>1980</th>\n",
              "      <th>1981</th>\n",
              "      <th>1982</th>\n",
              "      <th>1984</th>\n",
              "      <th>1986</th>\n",
              "      <th>1987</th>\n",
              "      <th>1992</th>\n",
              "      <th>1993</th>\n",
              "      <th>1999</th>\n",
              "      <th>2000</th>\n",
              "      <th>2001</th>\n",
              "      <th>2003</th>\n",
              "      <th>2005</th>\n",
              "      <th>2006</th>\n",
              "      <th>2007</th>\n",
              "      <th>2008</th>\n",
              "      <th>2009</th>\n",
              "      <th>2010</th>\n",
              "      <th>2011</th>\n",
              "      <th>2012</th>\n",
              "      <th>2013</th>\n",
              "      <th>2014</th>\n",
              "      <th>2015</th>\n",
              "      <th>2016</th>\n",
              "      <th>2017</th>\n",
              "      <th>2018</th>\n",
              "      <th>2019</th>\n",
              "      <th>Total</th>\n",
              "    </tr>\n",
              "  </thead>\n",
              "  <tbody>\n",
              "    <tr>\n",
              "      <th>0</th>\n",
              "      <td>11 Rondônia</td>\n",
              "      <td>-</td>\n",
              "      <td>-</td>\n",
              "      <td>-</td>\n",
              "      <td>-</td>\n",
              "      <td>1</td>\n",
              "      <td>-</td>\n",
              "      <td>-</td>\n",
              "      <td>-</td>\n",
              "      <td>-</td>\n",
              "      <td>-</td>\n",
              "      <td>-</td>\n",
              "      <td>-</td>\n",
              "      <td>-</td>\n",
              "      <td>-</td>\n",
              "      <td>-</td>\n",
              "      <td>-</td>\n",
              "      <td>-</td>\n",
              "      <td>-</td>\n",
              "      <td>1</td>\n",
              "      <td>13</td>\n",
              "      <td>25</td>\n",
              "      <td>12</td>\n",
              "      <td>49</td>\n",
              "      <td>11</td>\n",
              "      <td>140</td>\n",
              "      <td>170</td>\n",
              "      <td>72</td>\n",
              "      <td>36</td>\n",
              "      <td>13</td>\n",
              "      <td>21</td>\n",
              "      <td>22</td>\n",
              "      <td>586</td>\n",
              "    </tr>\n",
              "    <tr>\n",
              "      <th>1</th>\n",
              "      <td>12 Acre</td>\n",
              "      <td>2</td>\n",
              "      <td>-</td>\n",
              "      <td>1</td>\n",
              "      <td>1</td>\n",
              "      <td>-</td>\n",
              "      <td>-</td>\n",
              "      <td>-</td>\n",
              "      <td>-</td>\n",
              "      <td>-</td>\n",
              "      <td>-</td>\n",
              "      <td>-</td>\n",
              "      <td>-</td>\n",
              "      <td>-</td>\n",
              "      <td>-</td>\n",
              "      <td>-</td>\n",
              "      <td>-</td>\n",
              "      <td>-</td>\n",
              "      <td>2</td>\n",
              "      <td>23</td>\n",
              "      <td>35</td>\n",
              "      <td>63</td>\n",
              "      <td>39</td>\n",
              "      <td>128</td>\n",
              "      <td>254</td>\n",
              "      <td>534</td>\n",
              "      <td>1198</td>\n",
              "      <td>948</td>\n",
              "      <td>185</td>\n",
              "      <td>215</td>\n",
              "      <td>146</td>\n",
              "      <td>171</td>\n",
              "      <td>3945</td>\n",
              "    </tr>\n",
              "    <tr>\n",
              "      <th>2</th>\n",
              "      <td>13 Amazonas</td>\n",
              "      <td>-</td>\n",
              "      <td>-</td>\n",
              "      <td>-</td>\n",
              "      <td>-</td>\n",
              "      <td>-</td>\n",
              "      <td>-</td>\n",
              "      <td>-</td>\n",
              "      <td>-</td>\n",
              "      <td>-</td>\n",
              "      <td>-</td>\n",
              "      <td>-</td>\n",
              "      <td>-</td>\n",
              "      <td>-</td>\n",
              "      <td>-</td>\n",
              "      <td>-</td>\n",
              "      <td>-</td>\n",
              "      <td>-</td>\n",
              "      <td>3</td>\n",
              "      <td>40</td>\n",
              "      <td>43</td>\n",
              "      <td>50</td>\n",
              "      <td>33</td>\n",
              "      <td>66</td>\n",
              "      <td>61</td>\n",
              "      <td>48</td>\n",
              "      <td>78</td>\n",
              "      <td>61</td>\n",
              "      <td>42</td>\n",
              "      <td>59</td>\n",
              "      <td>45</td>\n",
              "      <td>35</td>\n",
              "      <td>664</td>\n",
              "    </tr>\n",
              "    <tr>\n",
              "      <th>3</th>\n",
              "      <td>14 Roraima</td>\n",
              "      <td>-</td>\n",
              "      <td>-</td>\n",
              "      <td>-</td>\n",
              "      <td>-</td>\n",
              "      <td>-</td>\n",
              "      <td>-</td>\n",
              "      <td>-</td>\n",
              "      <td>-</td>\n",
              "      <td>-</td>\n",
              "      <td>-</td>\n",
              "      <td>-</td>\n",
              "      <td>-</td>\n",
              "      <td>-</td>\n",
              "      <td>-</td>\n",
              "      <td>-</td>\n",
              "      <td>-</td>\n",
              "      <td>-</td>\n",
              "      <td>-</td>\n",
              "      <td>1</td>\n",
              "      <td>3</td>\n",
              "      <td>-</td>\n",
              "      <td>2</td>\n",
              "      <td>-</td>\n",
              "      <td>2</td>\n",
              "      <td>2</td>\n",
              "      <td>1</td>\n",
              "      <td>-</td>\n",
              "      <td>-</td>\n",
              "      <td>2</td>\n",
              "      <td>2</td>\n",
              "      <td>1</td>\n",
              "      <td>16</td>\n",
              "    </tr>\n",
              "    <tr>\n",
              "      <th>4</th>\n",
              "      <td>15 Pará</td>\n",
              "      <td>1</td>\n",
              "      <td>-</td>\n",
              "      <td>-</td>\n",
              "      <td>-</td>\n",
              "      <td>-</td>\n",
              "      <td>-</td>\n",
              "      <td>-</td>\n",
              "      <td>-</td>\n",
              "      <td>-</td>\n",
              "      <td>-</td>\n",
              "      <td>-</td>\n",
              "      <td>-</td>\n",
              "      <td>-</td>\n",
              "      <td>-</td>\n",
              "      <td>-</td>\n",
              "      <td>-</td>\n",
              "      <td>-</td>\n",
              "      <td>1</td>\n",
              "      <td>75</td>\n",
              "      <td>88</td>\n",
              "      <td>77</td>\n",
              "      <td>71</td>\n",
              "      <td>103</td>\n",
              "      <td>82</td>\n",
              "      <td>96</td>\n",
              "      <td>98</td>\n",
              "      <td>92</td>\n",
              "      <td>91</td>\n",
              "      <td>90</td>\n",
              "      <td>91</td>\n",
              "      <td>91</td>\n",
              "      <td>1147</td>\n",
              "    </tr>\n",
              "  </tbody>\n",
              "</table>\n",
              "</div>"
            ],
            "text/plain": [
              "  UF de notificação <1975 1976 1978 1979 1980  ... 2015 2016 2017 2018 2019 Total\n",
              "0       11 Rondônia     -    -    -    -    1  ...   72   36   13   21   22   586\n",
              "1           12 Acre     2    -    1    1    -  ...  948  185  215  146  171  3945\n",
              "2       13 Amazonas     -    -    -    -    -  ...   61   42   59   45   35   664\n",
              "3        14 Roraima     -    -    -    -    -  ...    -    -    2    2    1    16\n",
              "4           15 Pará     1    -    -    -    -  ...   92   91   90   91   91  1147\n",
              "\n",
              "[5 rows x 33 columns]"
            ]
          },
          "metadata": {},
          "execution_count": 3
        }
      ]
    },
    {
      "cell_type": "code",
      "metadata": {
        "colab": {
          "base_uri": "https://localhost:8080/",
          "height": 296
        },
        "id": "7kmivGhIJY2Z",
        "outputId": "a4def570-32af-419d-ed95-e71fbbb92a56"
      },
      "source": [
        "dados_crus.tail()"
      ],
      "execution_count": 4,
      "outputs": [
        {
          "output_type": "execute_result",
          "data": {
            "text/html": [
              "<div>\n",
              "<style scoped>\n",
              "    .dataframe tbody tr th:only-of-type {\n",
              "        vertical-align: middle;\n",
              "    }\n",
              "\n",
              "    .dataframe tbody tr th {\n",
              "        vertical-align: top;\n",
              "    }\n",
              "\n",
              "    .dataframe thead th {\n",
              "        text-align: right;\n",
              "    }\n",
              "</style>\n",
              "<table border=\"1\" class=\"dataframe\">\n",
              "  <thead>\n",
              "    <tr style=\"text-align: right;\">\n",
              "      <th></th>\n",
              "      <th>UF de notificação</th>\n",
              "      <th>&lt;1975</th>\n",
              "      <th>1976</th>\n",
              "      <th>1978</th>\n",
              "      <th>1979</th>\n",
              "      <th>1980</th>\n",
              "      <th>1981</th>\n",
              "      <th>1982</th>\n",
              "      <th>1984</th>\n",
              "      <th>1986</th>\n",
              "      <th>1987</th>\n",
              "      <th>1992</th>\n",
              "      <th>1993</th>\n",
              "      <th>1999</th>\n",
              "      <th>2000</th>\n",
              "      <th>2001</th>\n",
              "      <th>2003</th>\n",
              "      <th>2005</th>\n",
              "      <th>2006</th>\n",
              "      <th>2007</th>\n",
              "      <th>2008</th>\n",
              "      <th>2009</th>\n",
              "      <th>2010</th>\n",
              "      <th>2011</th>\n",
              "      <th>2012</th>\n",
              "      <th>2013</th>\n",
              "      <th>2014</th>\n",
              "      <th>2015</th>\n",
              "      <th>2016</th>\n",
              "      <th>2017</th>\n",
              "      <th>2018</th>\n",
              "      <th>2019</th>\n",
              "      <th>Total</th>\n",
              "    </tr>\n",
              "  </thead>\n",
              "  <tbody>\n",
              "    <tr>\n",
              "      <th>23</th>\n",
              "      <td>50 Mato Grosso do Sul</td>\n",
              "      <td>-</td>\n",
              "      <td>-</td>\n",
              "      <td>-</td>\n",
              "      <td>-</td>\n",
              "      <td>-</td>\n",
              "      <td>-</td>\n",
              "      <td>-</td>\n",
              "      <td>-</td>\n",
              "      <td>-</td>\n",
              "      <td>-</td>\n",
              "      <td>-</td>\n",
              "      <td>-</td>\n",
              "      <td>-</td>\n",
              "      <td>-</td>\n",
              "      <td>-</td>\n",
              "      <td>-</td>\n",
              "      <td>-</td>\n",
              "      <td>-</td>\n",
              "      <td>2</td>\n",
              "      <td>5</td>\n",
              "      <td>3</td>\n",
              "      <td>1</td>\n",
              "      <td>-</td>\n",
              "      <td>6</td>\n",
              "      <td>5</td>\n",
              "      <td>13</td>\n",
              "      <td>14</td>\n",
              "      <td>5</td>\n",
              "      <td>8</td>\n",
              "      <td>6</td>\n",
              "      <td>6</td>\n",
              "      <td>74</td>\n",
              "    </tr>\n",
              "    <tr>\n",
              "      <th>24</th>\n",
              "      <td>51 Mato Grosso</td>\n",
              "      <td>-</td>\n",
              "      <td>-</td>\n",
              "      <td>-</td>\n",
              "      <td>-</td>\n",
              "      <td>-</td>\n",
              "      <td>-</td>\n",
              "      <td>-</td>\n",
              "      <td>-</td>\n",
              "      <td>-</td>\n",
              "      <td>-</td>\n",
              "      <td>-</td>\n",
              "      <td>-</td>\n",
              "      <td>-</td>\n",
              "      <td>-</td>\n",
              "      <td>-</td>\n",
              "      <td>-</td>\n",
              "      <td>-</td>\n",
              "      <td>3</td>\n",
              "      <td>1</td>\n",
              "      <td>11</td>\n",
              "      <td>1</td>\n",
              "      <td>2</td>\n",
              "      <td>5</td>\n",
              "      <td>3</td>\n",
              "      <td>3</td>\n",
              "      <td>2</td>\n",
              "      <td>5</td>\n",
              "      <td>4</td>\n",
              "      <td>11</td>\n",
              "      <td>13</td>\n",
              "      <td>15</td>\n",
              "      <td>79</td>\n",
              "    </tr>\n",
              "    <tr>\n",
              "      <th>25</th>\n",
              "      <td>52 Goiás</td>\n",
              "      <td>-</td>\n",
              "      <td>-</td>\n",
              "      <td>-</td>\n",
              "      <td>-</td>\n",
              "      <td>-</td>\n",
              "      <td>-</td>\n",
              "      <td>-</td>\n",
              "      <td>-</td>\n",
              "      <td>-</td>\n",
              "      <td>-</td>\n",
              "      <td>-</td>\n",
              "      <td>-</td>\n",
              "      <td>-</td>\n",
              "      <td>-</td>\n",
              "      <td>-</td>\n",
              "      <td>-</td>\n",
              "      <td>-</td>\n",
              "      <td>-</td>\n",
              "      <td>5</td>\n",
              "      <td>5</td>\n",
              "      <td>8</td>\n",
              "      <td>6</td>\n",
              "      <td>3</td>\n",
              "      <td>15</td>\n",
              "      <td>18</td>\n",
              "      <td>14</td>\n",
              "      <td>16</td>\n",
              "      <td>19</td>\n",
              "      <td>14</td>\n",
              "      <td>13</td>\n",
              "      <td>15</td>\n",
              "      <td>151</td>\n",
              "    </tr>\n",
              "    <tr>\n",
              "      <th>26</th>\n",
              "      <td>53 Distrito Federal</td>\n",
              "      <td>-</td>\n",
              "      <td>-</td>\n",
              "      <td>-</td>\n",
              "      <td>-</td>\n",
              "      <td>-</td>\n",
              "      <td>-</td>\n",
              "      <td>-</td>\n",
              "      <td>-</td>\n",
              "      <td>-</td>\n",
              "      <td>-</td>\n",
              "      <td>-</td>\n",
              "      <td>-</td>\n",
              "      <td>-</td>\n",
              "      <td>-</td>\n",
              "      <td>-</td>\n",
              "      <td>-</td>\n",
              "      <td>-</td>\n",
              "      <td>3</td>\n",
              "      <td>20</td>\n",
              "      <td>19</td>\n",
              "      <td>28</td>\n",
              "      <td>22</td>\n",
              "      <td>10</td>\n",
              "      <td>14</td>\n",
              "      <td>28</td>\n",
              "      <td>15</td>\n",
              "      <td>26</td>\n",
              "      <td>28</td>\n",
              "      <td>5</td>\n",
              "      <td>8</td>\n",
              "      <td>8</td>\n",
              "      <td>234</td>\n",
              "    </tr>\n",
              "    <tr>\n",
              "      <th>27</th>\n",
              "      <td>Total</td>\n",
              "      <td>10</td>\n",
              "      <td>1</td>\n",
              "      <td>3</td>\n",
              "      <td>1</td>\n",
              "      <td>1</td>\n",
              "      <td>1</td>\n",
              "      <td>2</td>\n",
              "      <td>1</td>\n",
              "      <td>1</td>\n",
              "      <td>2</td>\n",
              "      <td>1</td>\n",
              "      <td>2</td>\n",
              "      <td>1</td>\n",
              "      <td>1</td>\n",
              "      <td>2</td>\n",
              "      <td>1</td>\n",
              "      <td>1</td>\n",
              "      <td>73</td>\n",
              "      <td>2686</td>\n",
              "      <td>3019</td>\n",
              "      <td>3279</td>\n",
              "      <td>3087</td>\n",
              "      <td>4139</td>\n",
              "      <td>2731</td>\n",
              "      <td>3416</td>\n",
              "      <td>4023</td>\n",
              "      <td>3728</td>\n",
              "      <td>2542</td>\n",
              "      <td>2493</td>\n",
              "      <td>2449</td>\n",
              "      <td>2743</td>\n",
              "      <td>40440</td>\n",
              "    </tr>\n",
              "  </tbody>\n",
              "</table>\n",
              "</div>"
            ],
            "text/plain": [
              "        UF de notificação <1975 1976 1978 1979  ...  2016  2017  2018  2019  Total\n",
              "23  50 Mato Grosso do Sul     -    -    -    -  ...     5     8     6     6     74\n",
              "24         51 Mato Grosso     -    -    -    -  ...     4    11    13    15     79\n",
              "25               52 Goiás     -    -    -    -  ...    19    14    13    15    151\n",
              "26    53 Distrito Federal     -    -    -    -  ...    28     5     8     8    234\n",
              "27                  Total    10    1    3    1  ...  2542  2493  2449  2743  40440\n",
              "\n",
              "[5 rows x 33 columns]"
            ]
          },
          "metadata": {},
          "execution_count": 4
        }
      ]
    },
    {
      "cell_type": "markdown",
      "metadata": {
        "id": "b6m4eqqbUYVB"
      },
      "source": [
        "###Excluindo anos incompletos que vieram no CSV"
      ]
    },
    {
      "cell_type": "code",
      "metadata": {
        "colab": {
          "base_uri": "https://localhost:8080/",
          "height": 206
        },
        "id": "9WX9wEEgQHt6",
        "outputId": "4e9f1585-2d3b-4715-a9b0-f2ad138d1881"
      },
      "source": [
        "dados_com_totais = dados_crus.drop(dados_crus.columns[1:19], axis=1)\n",
        "dados_com_totais.tail()"
      ],
      "execution_count": 5,
      "outputs": [
        {
          "output_type": "execute_result",
          "data": {
            "text/html": [
              "<div>\n",
              "<style scoped>\n",
              "    .dataframe tbody tr th:only-of-type {\n",
              "        vertical-align: middle;\n",
              "    }\n",
              "\n",
              "    .dataframe tbody tr th {\n",
              "        vertical-align: top;\n",
              "    }\n",
              "\n",
              "    .dataframe thead th {\n",
              "        text-align: right;\n",
              "    }\n",
              "</style>\n",
              "<table border=\"1\" class=\"dataframe\">\n",
              "  <thead>\n",
              "    <tr style=\"text-align: right;\">\n",
              "      <th></th>\n",
              "      <th>UF de notificação</th>\n",
              "      <th>2007</th>\n",
              "      <th>2008</th>\n",
              "      <th>2009</th>\n",
              "      <th>2010</th>\n",
              "      <th>2011</th>\n",
              "      <th>2012</th>\n",
              "      <th>2013</th>\n",
              "      <th>2014</th>\n",
              "      <th>2015</th>\n",
              "      <th>2016</th>\n",
              "      <th>2017</th>\n",
              "      <th>2018</th>\n",
              "      <th>2019</th>\n",
              "      <th>Total</th>\n",
              "    </tr>\n",
              "  </thead>\n",
              "  <tbody>\n",
              "    <tr>\n",
              "      <th>23</th>\n",
              "      <td>50 Mato Grosso do Sul</td>\n",
              "      <td>2</td>\n",
              "      <td>5</td>\n",
              "      <td>3</td>\n",
              "      <td>1</td>\n",
              "      <td>-</td>\n",
              "      <td>6</td>\n",
              "      <td>5</td>\n",
              "      <td>13</td>\n",
              "      <td>14</td>\n",
              "      <td>5</td>\n",
              "      <td>8</td>\n",
              "      <td>6</td>\n",
              "      <td>6</td>\n",
              "      <td>74</td>\n",
              "    </tr>\n",
              "    <tr>\n",
              "      <th>24</th>\n",
              "      <td>51 Mato Grosso</td>\n",
              "      <td>1</td>\n",
              "      <td>11</td>\n",
              "      <td>1</td>\n",
              "      <td>2</td>\n",
              "      <td>5</td>\n",
              "      <td>3</td>\n",
              "      <td>3</td>\n",
              "      <td>2</td>\n",
              "      <td>5</td>\n",
              "      <td>4</td>\n",
              "      <td>11</td>\n",
              "      <td>13</td>\n",
              "      <td>15</td>\n",
              "      <td>79</td>\n",
              "    </tr>\n",
              "    <tr>\n",
              "      <th>25</th>\n",
              "      <td>52 Goiás</td>\n",
              "      <td>5</td>\n",
              "      <td>5</td>\n",
              "      <td>8</td>\n",
              "      <td>6</td>\n",
              "      <td>3</td>\n",
              "      <td>15</td>\n",
              "      <td>18</td>\n",
              "      <td>14</td>\n",
              "      <td>16</td>\n",
              "      <td>19</td>\n",
              "      <td>14</td>\n",
              "      <td>13</td>\n",
              "      <td>15</td>\n",
              "      <td>151</td>\n",
              "    </tr>\n",
              "    <tr>\n",
              "      <th>26</th>\n",
              "      <td>53 Distrito Federal</td>\n",
              "      <td>20</td>\n",
              "      <td>19</td>\n",
              "      <td>28</td>\n",
              "      <td>22</td>\n",
              "      <td>10</td>\n",
              "      <td>14</td>\n",
              "      <td>28</td>\n",
              "      <td>15</td>\n",
              "      <td>26</td>\n",
              "      <td>28</td>\n",
              "      <td>5</td>\n",
              "      <td>8</td>\n",
              "      <td>8</td>\n",
              "      <td>234</td>\n",
              "    </tr>\n",
              "    <tr>\n",
              "      <th>27</th>\n",
              "      <td>Total</td>\n",
              "      <td>2686</td>\n",
              "      <td>3019</td>\n",
              "      <td>3279</td>\n",
              "      <td>3087</td>\n",
              "      <td>4139</td>\n",
              "      <td>2731</td>\n",
              "      <td>3416</td>\n",
              "      <td>4023</td>\n",
              "      <td>3728</td>\n",
              "      <td>2542</td>\n",
              "      <td>2493</td>\n",
              "      <td>2449</td>\n",
              "      <td>2743</td>\n",
              "      <td>40440</td>\n",
              "    </tr>\n",
              "  </tbody>\n",
              "</table>\n",
              "</div>"
            ],
            "text/plain": [
              "        UF de notificação  2007  2008  2009  ...  2017  2018  2019  Total\n",
              "23  50 Mato Grosso do Sul     2     5     3  ...     8     6     6     74\n",
              "24         51 Mato Grosso     1    11     1  ...    11    13    15     79\n",
              "25               52 Goiás     5     5     8  ...    14    13    15    151\n",
              "26    53 Distrito Federal    20    19    28  ...     5     8     8    234\n",
              "27                  Total  2686  3019  3279  ...  2493  2449  2743  40440\n",
              "\n",
              "[5 rows x 15 columns]"
            ]
          },
          "metadata": {},
          "execution_count": 5
        }
      ]
    },
    {
      "cell_type": "markdown",
      "metadata": {
        "id": "shotGxM8Urau"
      },
      "source": [
        "###Montando tabela de trabalho\n",
        "Excluindo totais, passando valores para int e limpando nome da UF"
      ]
    },
    {
      "cell_type": "code",
      "metadata": {
        "colab": {
          "base_uri": "https://localhost:8080/",
          "height": 238
        },
        "id": "XTvUgcWWUhW4",
        "outputId": "efd802c1-6f05-437a-dc9f-190ec77807b8"
      },
      "source": [
        "uf_ano_tmp = dados_com_totais.drop(dados_com_totais.columns[-1], axis=1)\n",
        "uf_ano = uf_ano_tmp.drop(dados_com_totais.index[-1])\n",
        "uf_ano.columns = ['UF'] + uf_ano.columns[1:].tolist()\n",
        "uf_ano['UF'] = uf_ano['UF'].apply(lambda x: ' '.join(x.split(' ')[1:]))\n",
        "uf_ano.set_index('UF', inplace=True)\n",
        "uf_ano.replace({'-': 0}, inplace=True)\n",
        "uf_ano = uf_ano.astype(int)\n",
        "uf_ano.tail()"
      ],
      "execution_count": 6,
      "outputs": [
        {
          "output_type": "execute_result",
          "data": {
            "text/html": [
              "<div>\n",
              "<style scoped>\n",
              "    .dataframe tbody tr th:only-of-type {\n",
              "        vertical-align: middle;\n",
              "    }\n",
              "\n",
              "    .dataframe tbody tr th {\n",
              "        vertical-align: top;\n",
              "    }\n",
              "\n",
              "    .dataframe thead th {\n",
              "        text-align: right;\n",
              "    }\n",
              "</style>\n",
              "<table border=\"1\" class=\"dataframe\">\n",
              "  <thead>\n",
              "    <tr style=\"text-align: right;\">\n",
              "      <th></th>\n",
              "      <th>2007</th>\n",
              "      <th>2008</th>\n",
              "      <th>2009</th>\n",
              "      <th>2010</th>\n",
              "      <th>2011</th>\n",
              "      <th>2012</th>\n",
              "      <th>2013</th>\n",
              "      <th>2014</th>\n",
              "      <th>2015</th>\n",
              "      <th>2016</th>\n",
              "      <th>2017</th>\n",
              "      <th>2018</th>\n",
              "      <th>2019</th>\n",
              "    </tr>\n",
              "    <tr>\n",
              "      <th>UF</th>\n",
              "      <th></th>\n",
              "      <th></th>\n",
              "      <th></th>\n",
              "      <th></th>\n",
              "      <th></th>\n",
              "      <th></th>\n",
              "      <th></th>\n",
              "      <th></th>\n",
              "      <th></th>\n",
              "      <th></th>\n",
              "      <th></th>\n",
              "      <th></th>\n",
              "      <th></th>\n",
              "    </tr>\n",
              "  </thead>\n",
              "  <tbody>\n",
              "    <tr>\n",
              "      <th>Rio Grande do Sul</th>\n",
              "      <td>429</td>\n",
              "      <td>345</td>\n",
              "      <td>404</td>\n",
              "      <td>388</td>\n",
              "      <td>478</td>\n",
              "      <td>240</td>\n",
              "      <td>377</td>\n",
              "      <td>428</td>\n",
              "      <td>460</td>\n",
              "      <td>362</td>\n",
              "      <td>445</td>\n",
              "      <td>393</td>\n",
              "      <td>590</td>\n",
              "    </tr>\n",
              "    <tr>\n",
              "      <th>Mato Grosso do Sul</th>\n",
              "      <td>2</td>\n",
              "      <td>5</td>\n",
              "      <td>3</td>\n",
              "      <td>1</td>\n",
              "      <td>0</td>\n",
              "      <td>6</td>\n",
              "      <td>5</td>\n",
              "      <td>13</td>\n",
              "      <td>14</td>\n",
              "      <td>5</td>\n",
              "      <td>8</td>\n",
              "      <td>6</td>\n",
              "      <td>6</td>\n",
              "    </tr>\n",
              "    <tr>\n",
              "      <th>Mato Grosso</th>\n",
              "      <td>1</td>\n",
              "      <td>11</td>\n",
              "      <td>1</td>\n",
              "      <td>2</td>\n",
              "      <td>5</td>\n",
              "      <td>3</td>\n",
              "      <td>3</td>\n",
              "      <td>2</td>\n",
              "      <td>5</td>\n",
              "      <td>4</td>\n",
              "      <td>11</td>\n",
              "      <td>13</td>\n",
              "      <td>15</td>\n",
              "    </tr>\n",
              "    <tr>\n",
              "      <th>Goiás</th>\n",
              "      <td>5</td>\n",
              "      <td>5</td>\n",
              "      <td>8</td>\n",
              "      <td>6</td>\n",
              "      <td>3</td>\n",
              "      <td>15</td>\n",
              "      <td>18</td>\n",
              "      <td>14</td>\n",
              "      <td>16</td>\n",
              "      <td>19</td>\n",
              "      <td>14</td>\n",
              "      <td>13</td>\n",
              "      <td>15</td>\n",
              "    </tr>\n",
              "    <tr>\n",
              "      <th>Distrito Federal</th>\n",
              "      <td>20</td>\n",
              "      <td>19</td>\n",
              "      <td>28</td>\n",
              "      <td>22</td>\n",
              "      <td>10</td>\n",
              "      <td>14</td>\n",
              "      <td>28</td>\n",
              "      <td>15</td>\n",
              "      <td>26</td>\n",
              "      <td>28</td>\n",
              "      <td>5</td>\n",
              "      <td>8</td>\n",
              "      <td>8</td>\n",
              "    </tr>\n",
              "  </tbody>\n",
              "</table>\n",
              "</div>"
            ],
            "text/plain": [
              "                    2007  2008  2009  2010  2011  ...  2015  2016  2017  2018  2019\n",
              "UF                                                ...                              \n",
              "Rio Grande do Sul    429   345   404   388   478  ...   460   362   445   393   590\n",
              "Mato Grosso do Sul     2     5     3     1     0  ...    14     5     8     6     6\n",
              "Mato Grosso            1    11     1     2     5  ...     5     4    11    13    15\n",
              "Goiás                  5     5     8     6     3  ...    16    19    14    13    15\n",
              "Distrito Federal      20    19    28    22    10  ...    26    28     5     8     8\n",
              "\n",
              "[5 rows x 13 columns]"
            ]
          },
          "metadata": {},
          "execution_count": 6
        }
      ]
    },
    {
      "cell_type": "markdown",
      "metadata": {
        "id": "32vaSGNxwBTR"
      },
      "source": [
        "###Criando tabela com UF e totais"
      ]
    },
    {
      "cell_type": "code",
      "metadata": {
        "colab": {
          "base_uri": "https://localhost:8080/",
          "height": 238
        },
        "id": "fmFzvEawJapL",
        "outputId": "b3dcbd3a-6dd4-4b9e-834e-ec811c3d6f29"
      },
      "source": [
        "uf_tot = pd.DataFrame(uf_ano.sum(axis=1),columns=['Casos'])\n",
        "uf_tot.sort_values('Casos', ascending=False, inplace=True)\n",
        "uf_tot.tail()"
      ],
      "execution_count": 7,
      "outputs": [
        {
          "output_type": "execute_result",
          "data": {
            "text/html": [
              "<div>\n",
              "<style scoped>\n",
              "    .dataframe tbody tr th:only-of-type {\n",
              "        vertical-align: middle;\n",
              "    }\n",
              "\n",
              "    .dataframe tbody tr th {\n",
              "        vertical-align: top;\n",
              "    }\n",
              "\n",
              "    .dataframe thead th {\n",
              "        text-align: right;\n",
              "    }\n",
              "</style>\n",
              "<table border=\"1\" class=\"dataframe\">\n",
              "  <thead>\n",
              "    <tr style=\"text-align: right;\">\n",
              "      <th></th>\n",
              "      <th>Casos</th>\n",
              "    </tr>\n",
              "    <tr>\n",
              "      <th>UF</th>\n",
              "      <th></th>\n",
              "    </tr>\n",
              "  </thead>\n",
              "  <tbody>\n",
              "    <tr>\n",
              "      <th>Mato Grosso</th>\n",
              "      <td>76</td>\n",
              "    </tr>\n",
              "    <tr>\n",
              "      <th>Mato Grosso do Sul</th>\n",
              "      <td>74</td>\n",
              "    </tr>\n",
              "    <tr>\n",
              "      <th>Tocantins</th>\n",
              "      <td>47</td>\n",
              "    </tr>\n",
              "    <tr>\n",
              "      <th>Piauí</th>\n",
              "      <td>46</td>\n",
              "    </tr>\n",
              "    <tr>\n",
              "      <th>Roraima</th>\n",
              "      <td>16</td>\n",
              "    </tr>\n",
              "  </tbody>\n",
              "</table>\n",
              "</div>"
            ],
            "text/plain": [
              "                    Casos\n",
              "UF                       \n",
              "Mato Grosso            76\n",
              "Mato Grosso do Sul     74\n",
              "Tocantins              47\n",
              "Piauí                  46\n",
              "Roraima                16"
            ]
          },
          "metadata": {},
          "execution_count": 7
        }
      ]
    },
    {
      "cell_type": "markdown",
      "metadata": {
        "id": "-GfTAHwdUYyG"
      },
      "source": [
        "###Visualizando casos de leptospirose por UF, entre 2007 e 2019"
      ]
    },
    {
      "cell_type": "code",
      "metadata": {
        "colab": {
          "base_uri": "https://localhost:8080/",
          "height": 433
        },
        "id": "YQyhqTKRPc4b",
        "outputId": "ac265c09-4f1c-4ed0-dd60-f6f70cea8234"
      },
      "source": [
        "fig, ax = plt.subplots()\n",
        "uf_tot.plot(kind='bar', figsize=(8,5), rot=60, ax=ax)\n",
        "ax.set_xticklabels(labels=uf_tot.index, horizontalalignment='right')\n",
        "plt.title('Casos de leptospirose por UF, entre 2007 e 2019')\n",
        "plt.show()"
      ],
      "execution_count": 8,
      "outputs": [
        {
          "output_type": "display_data",
          "data": {
            "image/png": "[encoded data removed]",
            "text/plain": [
              "<Figure size 576x360 with 1 Axes>"
            ]
          },
          "metadata": {
            "needs_background": "light"
          }
        }
      ]
    },
    {
      "cell_type": "markdown",
      "metadata": {
        "id": "J55YGDJmwb3f"
      },
      "source": [
        "###Criando tabela com ano e totais"
      ]
    },
    {
      "cell_type": "code",
      "metadata": {
        "colab": {
          "base_uri": "https://localhost:8080/",
          "height": 206
        },
        "id": "_dGXxxcUv0mT",
        "outputId": "d123a39c-15d1-4bbc-8cc7-c1e4906208cc"
      },
      "source": [
        "ano_tot = pd.DataFrame(uf_ano.T.sum(axis=1),columns=['Casos'])\n",
        "ano_tot.tail()"
      ],
      "execution_count": 9,
      "outputs": [
        {
          "output_type": "execute_result",
          "data": {
            "text/html": [
              "<div>\n",
              "<style scoped>\n",
              "    .dataframe tbody tr th:only-of-type {\n",
              "        vertical-align: middle;\n",
              "    }\n",
              "\n",
              "    .dataframe tbody tr th {\n",
              "        vertical-align: top;\n",
              "    }\n",
              "\n",
              "    .dataframe thead th {\n",
              "        text-align: right;\n",
              "    }\n",
              "</style>\n",
              "<table border=\"1\" class=\"dataframe\">\n",
              "  <thead>\n",
              "    <tr style=\"text-align: right;\">\n",
              "      <th></th>\n",
              "      <th>Casos</th>\n",
              "    </tr>\n",
              "  </thead>\n",
              "  <tbody>\n",
              "    <tr>\n",
              "      <th>2015</th>\n",
              "      <td>3728</td>\n",
              "    </tr>\n",
              "    <tr>\n",
              "      <th>2016</th>\n",
              "      <td>2542</td>\n",
              "    </tr>\n",
              "    <tr>\n",
              "      <th>2017</th>\n",
              "      <td>2493</td>\n",
              "    </tr>\n",
              "    <tr>\n",
              "      <th>2018</th>\n",
              "      <td>2449</td>\n",
              "    </tr>\n",
              "    <tr>\n",
              "      <th>2019</th>\n",
              "      <td>2743</td>\n",
              "    </tr>\n",
              "  </tbody>\n",
              "</table>\n",
              "</div>"
            ],
            "text/plain": [
              "      Casos\n",
              "2015   3728\n",
              "2016   2542\n",
              "2017   2493\n",
              "2018   2449\n",
              "2019   2743"
            ]
          },
          "metadata": {},
          "execution_count": 9
        }
      ]
    },
    {
      "cell_type": "markdown",
      "metadata": {
        "id": "TIpRnMUoUsoq"
      },
      "source": [
        "###Visualizando casos de leptospirose por ano, entre 2007 e 2019"
      ]
    },
    {
      "cell_type": "code",
      "metadata": {
        "colab": {
          "base_uri": "https://localhost:8080/",
          "height": 351
        },
        "id": "5mz25dKzwtYx",
        "outputId": "6a131a6c-cf9a-439f-fcae-54a9cf8294da"
      },
      "source": [
        "ano_tot.plot(kind='bar', figsize=(8,5))\n",
        "plt.title('Casos de leptospirose por ano, entre 2007 e 2019')\n",
        "plt.show()"
      ],
      "execution_count": 10,
      "outputs": [
        {
          "output_type": "display_data",
          "data": {
            "image/png": "[encoded data removed]",
            "text/plain": [
              "<Figure size 576x360 with 1 Axes>"
            ]
          },
          "metadata": {
            "needs_background": "light"
          }
        }
      ]
    },
    {
      "cell_type": "markdown",
      "metadata": {
        "id": "R21Teat5U8X8"
      },
      "source": [
        "##Carregando dados populacionais"
      ]
    },
    {
      "cell_type": "code",
      "metadata": {
        "id": "isgPQzxgIfPK"
      },
      "source": [
        "url = \"https://drive.google.com/uc?id=1Ys8btmvHvCULkq8_h28HAVFLJcPClGzr\"\n",
        "populacao_crus = pd.read_csv(url, encoding=\"UTF-8\", sep=\";\", skiprows=3);"
      ],
      "execution_count": 11,
      "outputs": []
    },
    {
      "cell_type": "markdown",
      "metadata": {
        "id": "C99HxB92VjAH"
      },
      "source": [
        "###Visualisando primeiras e últimas linhas"
      ]
    },
    {
      "cell_type": "code",
      "metadata": {
        "colab": {
          "base_uri": "https://localhost:8080/",
          "height": 206
        },
        "id": "wGBWe3t_JTRe",
        "outputId": "b1ce6c19-938a-4a9c-a05d-1b9713dc298f"
      },
      "source": [
        "populacao_crus.head()"
      ],
      "execution_count": 12,
      "outputs": [
        {
          "output_type": "execute_result",
          "data": {
            "text/html": [
              "<div>\n",
              "<style scoped>\n",
              "    .dataframe tbody tr th:only-of-type {\n",
              "        vertical-align: middle;\n",
              "    }\n",
              "\n",
              "    .dataframe tbody tr th {\n",
              "        vertical-align: top;\n",
              "    }\n",
              "\n",
              "    .dataframe thead th {\n",
              "        text-align: right;\n",
              "    }\n",
              "</style>\n",
              "<table border=\"1\" class=\"dataframe\">\n",
              "  <thead>\n",
              "    <tr style=\"text-align: right;\">\n",
              "      <th></th>\n",
              "      <th>Nível</th>\n",
              "      <th>Cód.</th>\n",
              "      <th>Município</th>\n",
              "      <th>2019</th>\n",
              "    </tr>\n",
              "  </thead>\n",
              "  <tbody>\n",
              "    <tr>\n",
              "      <th>0</th>\n",
              "      <td>MU</td>\n",
              "      <td>1100015</td>\n",
              "      <td>Alta Floresta D'Oeste (RO)</td>\n",
              "      <td>22945.0</td>\n",
              "    </tr>\n",
              "    <tr>\n",
              "      <th>1</th>\n",
              "      <td>MU</td>\n",
              "      <td>1100023</td>\n",
              "      <td>Ariquemes (RO)</td>\n",
              "      <td>107863.0</td>\n",
              "    </tr>\n",
              "    <tr>\n",
              "      <th>2</th>\n",
              "      <td>MU</td>\n",
              "      <td>1100031</td>\n",
              "      <td>Cabixi (RO)</td>\n",
              "      <td>5312.0</td>\n",
              "    </tr>\n",
              "    <tr>\n",
              "      <th>3</th>\n",
              "      <td>MU</td>\n",
              "      <td>1100049</td>\n",
              "      <td>Cacoal (RO)</td>\n",
              "      <td>85359.0</td>\n",
              "    </tr>\n",
              "    <tr>\n",
              "      <th>4</th>\n",
              "      <td>MU</td>\n",
              "      <td>1100056</td>\n",
              "      <td>Cerejeiras (RO)</td>\n",
              "      <td>16323.0</td>\n",
              "    </tr>\n",
              "  </tbody>\n",
              "</table>\n",
              "</div>"
            ],
            "text/plain": [
              "  Nível     Cód.                   Município      2019\n",
              "0    MU  1100015  Alta Floresta D'Oeste (RO)   22945.0\n",
              "1    MU  1100023              Ariquemes (RO)  107863.0\n",
              "2    MU  1100031                 Cabixi (RO)    5312.0\n",
              "3    MU  1100049                 Cacoal (RO)   85359.0\n",
              "4    MU  1100056             Cerejeiras (RO)   16323.0"
            ]
          },
          "metadata": {},
          "execution_count": 12
        }
      ]
    },
    {
      "cell_type": "code",
      "metadata": {
        "colab": {
          "base_uri": "https://localhost:8080/",
          "height": 206
        },
        "id": "xo4Z6PwwJYJd",
        "outputId": "aaac2d11-d7db-49d7-a50d-62326976c876"
      },
      "source": [
        "populacao_crus.tail(110).head()"
      ],
      "execution_count": 13,
      "outputs": [
        {
          "output_type": "execute_result",
          "data": {
            "text/html": [
              "<div>\n",
              "<style scoped>\n",
              "    .dataframe tbody tr th:only-of-type {\n",
              "        vertical-align: middle;\n",
              "    }\n",
              "\n",
              "    .dataframe tbody tr th {\n",
              "        vertical-align: top;\n",
              "    }\n",
              "\n",
              "    .dataframe thead th {\n",
              "        text-align: right;\n",
              "    }\n",
              "</style>\n",
              "<table border=\"1\" class=\"dataframe\">\n",
              "  <thead>\n",
              "    <tr style=\"text-align: right;\">\n",
              "      <th></th>\n",
              "      <th>Nível</th>\n",
              "      <th>Cód.</th>\n",
              "      <th>Município</th>\n",
              "      <th>2019</th>\n",
              "    </tr>\n",
              "  </thead>\n",
              "  <tbody>\n",
              "    <tr>\n",
              "      <th>5568</th>\n",
              "      <td>MU</td>\n",
              "      <td>5222302</td>\n",
              "      <td>Vila Propício (GO)</td>\n",
              "      <td>5821.0</td>\n",
              "    </tr>\n",
              "    <tr>\n",
              "      <th>5569</th>\n",
              "      <td>MU</td>\n",
              "      <td>5300108</td>\n",
              "      <td>Brasília (DF)</td>\n",
              "      <td>3015268.0</td>\n",
              "    </tr>\n",
              "    <tr>\n",
              "      <th>5570</th>\n",
              "      <td>Fonte: IBGE - Estimativas de População</td>\n",
              "      <td>NaN</td>\n",
              "      <td>NaN</td>\n",
              "      <td>NaN</td>\n",
              "    </tr>\n",
              "    <tr>\n",
              "      <th>5571</th>\n",
              "      <td>Notas</td>\n",
              "      <td>NaN</td>\n",
              "      <td>NaN</td>\n",
              "      <td>NaN</td>\n",
              "    </tr>\n",
              "    <tr>\n",
              "      <th>5572</th>\n",
              "      <td>Em 2003:\\nO contingente populacional estimado ...</td>\n",
              "      <td>NaN</td>\n",
              "      <td>NaN</td>\n",
              "      <td>NaN</td>\n",
              "    </tr>\n",
              "  </tbody>\n",
              "</table>\n",
              "</div>"
            ],
            "text/plain": [
              "                                                  Nível  ...       2019\n",
              "5568                                                 MU  ...     5821.0\n",
              "5569                                                 MU  ...  3015268.0\n",
              "5570             Fonte: IBGE - Estimativas de População  ...        NaN\n",
              "5571                                              Notas  ...        NaN\n",
              "5572  Em 2003:\\nO contingente populacional estimado ...  ...        NaN\n",
              "\n",
              "[5 rows x 4 columns]"
            ]
          },
          "metadata": {},
          "execution_count": 13
        }
      ]
    },
    {
      "cell_type": "markdown",
      "metadata": {
        "id": "_2TVk1YkVwbm"
      },
      "source": [
        "###Limpando informações no final do arquivo"
      ]
    },
    {
      "cell_type": "code",
      "metadata": {
        "colab": {
          "base_uri": "https://localhost:8080/",
          "height": 206
        },
        "id": "z_v_B-JxJ0Qn",
        "outputId": "8af0bd19-60cb-4ab3-d61b-54fd98962ed9"
      },
      "source": [
        "populacao_crus = populacao_crus[:5570]\n",
        "populacao_crus.tail()"
      ],
      "execution_count": 14,
      "outputs": [
        {
          "output_type": "execute_result",
          "data": {
            "text/html": [
              "<div>\n",
              "<style scoped>\n",
              "    .dataframe tbody tr th:only-of-type {\n",
              "        vertical-align: middle;\n",
              "    }\n",
              "\n",
              "    .dataframe tbody tr th {\n",
              "        vertical-align: top;\n",
              "    }\n",
              "\n",
              "    .dataframe thead th {\n",
              "        text-align: right;\n",
              "    }\n",
              "</style>\n",
              "<table border=\"1\" class=\"dataframe\">\n",
              "  <thead>\n",
              "    <tr style=\"text-align: right;\">\n",
              "      <th></th>\n",
              "      <th>Nível</th>\n",
              "      <th>Cód.</th>\n",
              "      <th>Município</th>\n",
              "      <th>2019</th>\n",
              "    </tr>\n",
              "  </thead>\n",
              "  <tbody>\n",
              "    <tr>\n",
              "      <th>5565</th>\n",
              "      <td>MU</td>\n",
              "      <td>5222005</td>\n",
              "      <td>Vianópolis (GO)</td>\n",
              "      <td>13863.0</td>\n",
              "    </tr>\n",
              "    <tr>\n",
              "      <th>5566</th>\n",
              "      <td>MU</td>\n",
              "      <td>5222054</td>\n",
              "      <td>Vicentinópolis (GO)</td>\n",
              "      <td>8743.0</td>\n",
              "    </tr>\n",
              "    <tr>\n",
              "      <th>5567</th>\n",
              "      <td>MU</td>\n",
              "      <td>5222203</td>\n",
              "      <td>Vila Boa (GO)</td>\n",
              "      <td>6171.0</td>\n",
              "    </tr>\n",
              "    <tr>\n",
              "      <th>5568</th>\n",
              "      <td>MU</td>\n",
              "      <td>5222302</td>\n",
              "      <td>Vila Propício (GO)</td>\n",
              "      <td>5821.0</td>\n",
              "    </tr>\n",
              "    <tr>\n",
              "      <th>5569</th>\n",
              "      <td>MU</td>\n",
              "      <td>5300108</td>\n",
              "      <td>Brasília (DF)</td>\n",
              "      <td>3015268.0</td>\n",
              "    </tr>\n",
              "  </tbody>\n",
              "</table>\n",
              "</div>"
            ],
            "text/plain": [
              "     Nível     Cód.            Município       2019\n",
              "5565    MU  5222005      Vianópolis (GO)    13863.0\n",
              "5566    MU  5222054  Vicentinópolis (GO)     8743.0\n",
              "5567    MU  5222203        Vila Boa (GO)     6171.0\n",
              "5568    MU  5222302   Vila Propício (GO)     5821.0\n",
              "5569    MU  5300108        Brasília (DF)  3015268.0"
            ]
          },
          "metadata": {},
          "execution_count": 14
        }
      ]
    },
    {
      "cell_type": "markdown",
      "metadata": {
        "id": "-g05B3o1V68O"
      },
      "source": [
        "###Montando tabela de trabalho\n",
        "Excluindo coluna desnecessária, passando valores para int, criando coluna UF e limpando nome do município"
      ]
    },
    {
      "cell_type": "code",
      "metadata": {
        "colab": {
          "base_uri": "https://localhost:8080/",
          "height": 238
        },
        "id": "a-hSK9RjKAuB",
        "outputId": "8a1df1c4-2633-43db-e4a1-6644e110488f"
      },
      "source": [
        "populacao_limpa = populacao_crus.drop('Nível', axis=1)\n",
        "populacao_limpa.columns = ['id_mun', 'nome', 'pessoas']\n",
        "\n",
        "entre_parenteses = re.compile(\"\\((.*)\\)\")\n",
        "antes_parenteses = re.compile(\"(.*) \\(\")\n",
        "\n",
        "populacao_limpa['UF'] = populacao_limpa['nome'].apply(lambda x: entre_parenteses.search(x).group(1))\n",
        "populacao_limpa['nome'] = populacao_limpa['nome'].apply(lambda x: antes_parenteses.search(x).group(1))\n",
        "populacao_limpa['pessoas'] = populacao_limpa['pessoas'].astype(int)\n",
        "populacao_limpa['id_mun'] = populacao_limpa['id_mun'].astype(int)\n",
        "populacao_limpa.set_index('id_mun', inplace=True)\n",
        "populacao_limpa.tail()"
      ],
      "execution_count": 15,
      "outputs": [
        {
          "output_type": "execute_result",
          "data": {
            "text/html": [
              "<div>\n",
              "<style scoped>\n",
              "    .dataframe tbody tr th:only-of-type {\n",
              "        vertical-align: middle;\n",
              "    }\n",
              "\n",
              "    .dataframe tbody tr th {\n",
              "        vertical-align: top;\n",
              "    }\n",
              "\n",
              "    .dataframe thead th {\n",
              "        text-align: right;\n",
              "    }\n",
              "</style>\n",
              "<table border=\"1\" class=\"dataframe\">\n",
              "  <thead>\n",
              "    <tr style=\"text-align: right;\">\n",
              "      <th></th>\n",
              "      <th>nome</th>\n",
              "      <th>pessoas</th>\n",
              "      <th>UF</th>\n",
              "    </tr>\n",
              "    <tr>\n",
              "      <th>id_mun</th>\n",
              "      <th></th>\n",
              "      <th></th>\n",
              "      <th></th>\n",
              "    </tr>\n",
              "  </thead>\n",
              "  <tbody>\n",
              "    <tr>\n",
              "      <th>5222005</th>\n",
              "      <td>Vianópolis</td>\n",
              "      <td>13863</td>\n",
              "      <td>GO</td>\n",
              "    </tr>\n",
              "    <tr>\n",
              "      <th>5222054</th>\n",
              "      <td>Vicentinópolis</td>\n",
              "      <td>8743</td>\n",
              "      <td>GO</td>\n",
              "    </tr>\n",
              "    <tr>\n",
              "      <th>5222203</th>\n",
              "      <td>Vila Boa</td>\n",
              "      <td>6171</td>\n",
              "      <td>GO</td>\n",
              "    </tr>\n",
              "    <tr>\n",
              "      <th>5222302</th>\n",
              "      <td>Vila Propício</td>\n",
              "      <td>5821</td>\n",
              "      <td>GO</td>\n",
              "    </tr>\n",
              "    <tr>\n",
              "      <th>5300108</th>\n",
              "      <td>Brasília</td>\n",
              "      <td>3015268</td>\n",
              "      <td>DF</td>\n",
              "    </tr>\n",
              "  </tbody>\n",
              "</table>\n",
              "</div>"
            ],
            "text/plain": [
              "                   nome  pessoas  UF\n",
              "id_mun                              \n",
              "5222005      Vianópolis    13863  GO\n",
              "5222054  Vicentinópolis     8743  GO\n",
              "5222203        Vila Boa     6171  GO\n",
              "5222302   Vila Propício     5821  GO\n",
              "5300108        Brasília  3015268  DF"
            ]
          },
          "metadata": {},
          "execution_count": 15
        }
      ]
    },
    {
      "cell_type": "markdown",
      "metadata": {
        "id": "byWOx-TbWMEJ"
      },
      "source": [
        "###Criando tabela com população por UF"
      ]
    },
    {
      "cell_type": "code",
      "metadata": {
        "colab": {
          "base_uri": "https://localhost:8080/",
          "height": 238
        },
        "id": "PX0_mh1OKT33",
        "outputId": "788db1e8-55cc-4d3d-da58-3d74157df63d"
      },
      "source": [
        "uf_populacao = populacao_limpa.groupby(['UF']).sum()\n",
        "uf_populacao.head()"
      ],
      "execution_count": 16,
      "outputs": [
        {
          "output_type": "execute_result",
          "data": {
            "text/html": [
              "<div>\n",
              "<style scoped>\n",
              "    .dataframe tbody tr th:only-of-type {\n",
              "        vertical-align: middle;\n",
              "    }\n",
              "\n",
              "    .dataframe tbody tr th {\n",
              "        vertical-align: top;\n",
              "    }\n",
              "\n",
              "    .dataframe thead th {\n",
              "        text-align: right;\n",
              "    }\n",
              "</style>\n",
              "<table border=\"1\" class=\"dataframe\">\n",
              "  <thead>\n",
              "    <tr style=\"text-align: right;\">\n",
              "      <th></th>\n",
              "      <th>pessoas</th>\n",
              "    </tr>\n",
              "    <tr>\n",
              "      <th>UF</th>\n",
              "      <th></th>\n",
              "    </tr>\n",
              "  </thead>\n",
              "  <tbody>\n",
              "    <tr>\n",
              "      <th>AC</th>\n",
              "      <td>881935</td>\n",
              "    </tr>\n",
              "    <tr>\n",
              "      <th>AL</th>\n",
              "      <td>3337357</td>\n",
              "    </tr>\n",
              "    <tr>\n",
              "      <th>AM</th>\n",
              "      <td>4144597</td>\n",
              "    </tr>\n",
              "    <tr>\n",
              "      <th>AP</th>\n",
              "      <td>845731</td>\n",
              "    </tr>\n",
              "    <tr>\n",
              "      <th>BA</th>\n",
              "      <td>14873064</td>\n",
              "    </tr>\n",
              "  </tbody>\n",
              "</table>\n",
              "</div>"
            ],
            "text/plain": [
              "     pessoas\n",
              "UF          \n",
              "AC    881935\n",
              "AL   3337357\n",
              "AM   4144597\n",
              "AP    845731\n",
              "BA  14873064"
            ]
          },
          "metadata": {},
          "execution_count": 16
        }
      ]
    },
    {
      "cell_type": "markdown",
      "metadata": {
        "id": "SE0rIe8vWXfk"
      },
      "source": [
        "##Analisando casos por milhão de habitantes por UF"
      ]
    },
    {
      "cell_type": "markdown",
      "metadata": {
        "id": "ICDuGF6kq7zd"
      },
      "source": [
        "###Montando tabela"
      ]
    },
    {
      "cell_type": "code",
      "metadata": {
        "id": "garaHlY3W-bz"
      },
      "source": [
        "nome_uf = {\n",
        "    'Acre': 'AC',\n",
        "    'Alagoas': 'AL',\n",
        "    'Amapá': 'AP',\n",
        "    'Amazonas': 'AM',\n",
        "    'Bahia': 'BA',\n",
        "    'Ceará': 'CE',\n",
        "    'Distrito Federal': 'DF',\n",
        "    'Espírito Santo': 'ES',\n",
        "    'Goiás': 'GO',\n",
        "    'Maranhão': 'MA',\n",
        "    'Mato Grosso': 'MT',\n",
        "    'Mato Grosso do Sul': 'MS',\n",
        "    'Minas Gerais': 'MG',\n",
        "    'Paraná': 'PR',\n",
        "    'Paraíba': 'PB',\n",
        "    'Pará': 'PA',\n",
        "    'Pernambuco': 'PE',\n",
        "    'Piauí': 'PI',\n",
        "    'Rio Grande do Norte': 'RN',\n",
        "    'Rio Grande do Sul': 'RS',\n",
        "    'Rio de Janeiro': 'RJ',\n",
        "    'Rondônia': 'RO',\n",
        "    'Roraima': 'RR',\n",
        "    'Santa Catarina': 'SC',\n",
        "    'Sergipe': 'SE',\n",
        "    'São Paulo': 'SP',\n",
        "    'Tocantins': 'TO'\n",
        "}"
      ],
      "execution_count": 17,
      "outputs": []
    },
    {
      "cell_type": "code",
      "metadata": {
        "colab": {
          "base_uri": "https://localhost:8080/",
          "height": 238
        },
        "id": "ANzO-j_IYOdz",
        "outputId": "a6c9fc2b-6f4b-42e6-9f9c-954bfd254f68"
      },
      "source": [
        "uf2_tot = uf_tot.reset_index()\n",
        "uf2_tot['UF'] = uf2_tot['UF'].apply(lambda x: nome_uf[x] if x in nome_uf else 'err')\n",
        "uf2_tot.set_index('UF', inplace=True)\n",
        "uf2_tot.head()"
      ],
      "execution_count": 18,
      "outputs": [
        {
          "output_type": "execute_result",
          "data": {
            "text/html": [
              "<div>\n",
              "<style scoped>\n",
              "    .dataframe tbody tr th:only-of-type {\n",
              "        vertical-align: middle;\n",
              "    }\n",
              "\n",
              "    .dataframe tbody tr th {\n",
              "        vertical-align: top;\n",
              "    }\n",
              "\n",
              "    .dataframe thead th {\n",
              "        text-align: right;\n",
              "    }\n",
              "</style>\n",
              "<table border=\"1\" class=\"dataframe\">\n",
              "  <thead>\n",
              "    <tr style=\"text-align: right;\">\n",
              "      <th></th>\n",
              "      <th>Casos</th>\n",
              "    </tr>\n",
              "    <tr>\n",
              "      <th>UF</th>\n",
              "      <th></th>\n",
              "    </tr>\n",
              "  </thead>\n",
              "  <tbody>\n",
              "    <tr>\n",
              "      <th>SP</th>\n",
              "      <td>7233</td>\n",
              "    </tr>\n",
              "    <tr>\n",
              "      <th>SC</th>\n",
              "      <td>5341</td>\n",
              "    </tr>\n",
              "    <tr>\n",
              "      <th>RS</th>\n",
              "      <td>5339</td>\n",
              "    </tr>\n",
              "    <tr>\n",
              "      <th>AC</th>\n",
              "      <td>3939</td>\n",
              "    </tr>\n",
              "    <tr>\n",
              "      <th>PR</th>\n",
              "      <td>3641</td>\n",
              "    </tr>\n",
              "  </tbody>\n",
              "</table>\n",
              "</div>"
            ],
            "text/plain": [
              "    Casos\n",
              "UF       \n",
              "SP   7233\n",
              "SC   5341\n",
              "RS   5339\n",
              "AC   3939\n",
              "PR   3641"
            ]
          },
          "metadata": {},
          "execution_count": 18
        }
      ]
    },
    {
      "cell_type": "code",
      "metadata": {
        "colab": {
          "base_uri": "https://localhost:8080/",
          "height": 206
        },
        "id": "okOYpJ_qib_C",
        "outputId": "21b3a960-d9c6-466a-a9e6-9c20167273f0"
      },
      "source": [
        "uf_por_milhao = pd.concat([uf2_tot, uf_populacao], axis=1)\n",
        "uf_por_milhao['Casos por milhão'] = (uf_por_milhao['Casos'] / uf_por_milhao['pessoas'] * 1000000).astype(int)\n",
        "uf_por_milhao.head()"
      ],
      "execution_count": 19,
      "outputs": [
        {
          "output_type": "execute_result",
          "data": {
            "text/html": [
              "<div>\n",
              "<style scoped>\n",
              "    .dataframe tbody tr th:only-of-type {\n",
              "        vertical-align: middle;\n",
              "    }\n",
              "\n",
              "    .dataframe tbody tr th {\n",
              "        vertical-align: top;\n",
              "    }\n",
              "\n",
              "    .dataframe thead th {\n",
              "        text-align: right;\n",
              "    }\n",
              "</style>\n",
              "<table border=\"1\" class=\"dataframe\">\n",
              "  <thead>\n",
              "    <tr style=\"text-align: right;\">\n",
              "      <th></th>\n",
              "      <th>Casos</th>\n",
              "      <th>pessoas</th>\n",
              "      <th>Casos por milhão</th>\n",
              "    </tr>\n",
              "  </thead>\n",
              "  <tbody>\n",
              "    <tr>\n",
              "      <th>SP</th>\n",
              "      <td>7233</td>\n",
              "      <td>45919049</td>\n",
              "      <td>157</td>\n",
              "    </tr>\n",
              "    <tr>\n",
              "      <th>SC</th>\n",
              "      <td>5341</td>\n",
              "      <td>7164788</td>\n",
              "      <td>745</td>\n",
              "    </tr>\n",
              "    <tr>\n",
              "      <th>RS</th>\n",
              "      <td>5339</td>\n",
              "      <td>11377239</td>\n",
              "      <td>469</td>\n",
              "    </tr>\n",
              "    <tr>\n",
              "      <th>AC</th>\n",
              "      <td>3939</td>\n",
              "      <td>881935</td>\n",
              "      <td>4466</td>\n",
              "    </tr>\n",
              "    <tr>\n",
              "      <th>PR</th>\n",
              "      <td>3641</td>\n",
              "      <td>11433957</td>\n",
              "      <td>318</td>\n",
              "    </tr>\n",
              "  </tbody>\n",
              "</table>\n",
              "</div>"
            ],
            "text/plain": [
              "    Casos   pessoas  Casos por milhão\n",
              "SP   7233  45919049               157\n",
              "SC   5341   7164788               745\n",
              "RS   5339  11377239               469\n",
              "AC   3939    881935              4466\n",
              "PR   3641  11433957               318"
            ]
          },
          "metadata": {},
          "execution_count": 19
        }
      ]
    },
    {
      "cell_type": "markdown",
      "metadata": {
        "id": "6SaW5mCYrEp7"
      },
      "source": [
        "###Visualizando casos totais e por milhão"
      ]
    },
    {
      "cell_type": "markdown",
      "metadata": {
        "id": "AUMf3Uc5rOfo"
      },
      "source": [
        "####Ordenado por casos totais"
      ]
    },
    {
      "cell_type": "code",
      "metadata": {
        "colab": {
          "base_uri": "https://localhost:8080/",
          "height": 366
        },
        "id": "q1kyzpMDl9RF",
        "outputId": "d9d6369b-2cff-460b-fc72-ff6ebcdcbf12"
      },
      "source": [
        "uf_por_milhao.plot(kind='bar', y=['Casos por milhão', 'Casos'], figsize=(10,5), rot=0)\n",
        "plt.title(\n",
        "    'Casos de leptospirose, entre 2007 e 2019,\\n'\n",
        "    'por UF por milhão de habitantes,\\n'\n",
        "    'ordenado por total de casos')\n",
        "plt.show()"
      ],
      "execution_count": 20,
      "outputs": [
        {
          "output_type": "display_data",
          "data": {
            "image/png": "[encoded data removed]",
            "text/plain": [
              "<Figure size 720x360 with 1 Axes>"
            ]
          },
          "metadata": {
            "needs_background": "light"
          }
        }
      ]
    },
    {
      "cell_type": "markdown",
      "metadata": {
        "id": "rjB4Hyz6rUkv"
      },
      "source": [
        "####Ordenado por casos por milhão"
      ]
    },
    {
      "cell_type": "code",
      "metadata": {
        "colab": {
          "base_uri": "https://localhost:8080/",
          "height": 366
        },
        "id": "FHr5Yhvno8B-",
        "outputId": "4f3f2ee5-5315-42bd-f4c0-15d8bdaa65b3"
      },
      "source": [
        "uf_por_milhao.sort_values(by='Casos por milhão', ascending=False, inplace=True)\n",
        "uf_por_milhao.plot(kind='bar', y=['Casos por milhão', 'Casos'], figsize=(10,5), rot=0)\n",
        "plt.title(\n",
        "    'Casos de leptospirose, entre 2007 e 2019,\\n'\n",
        "    'por UF por milhão de habitantes,\\n'\n",
        "    'ordenado por número de casos por milhão')\n",
        "plt.show()"
      ],
      "execution_count": 21,
      "outputs": [
        {
          "output_type": "display_data",
          "data": {
            "image/png": "[encoded data removed]",
            "text/plain": [
              "<Figure size 720x360 with 1 Axes>"
            ]
          },
          "metadata": {
            "needs_background": "light"
          }
        }
      ]
    },
    {
      "cell_type": "markdown",
      "metadata": {
        "id": "dMpQucNdsToL"
      },
      "source": [
        "##Analisando as casos do Acre no tempo\n",
        "Como o estado do Acre se mostrou um ponto muito fora da curva, vamos analisar os casos desses estado por ano."
      ]
    },
    {
      "cell_type": "code",
      "metadata": {
        "colab": {
          "base_uri": "https://localhost:8080/",
          "height": 351
        },
        "id": "bo2ue0nZsG3s",
        "outputId": "5ff31a7d-cb6b-4fa4-c785-1d8f74995075"
      },
      "source": [
        "uf_ano.loc['Acre'].plot(kind='bar', figsize=(8,5))\n",
        "plt.title('Casos de leptospirose do estado do Acre por ano, entre 2007 e 2019')\n",
        "plt.show()"
      ],
      "execution_count": 22,
      "outputs": [
        {
          "output_type": "display_data",
          "data": {
            "image/png": "[encoded data removed]",
            "text/plain": [
              "<Figure size 576x360 with 1 Axes>"
            ]
          },
          "metadata": {
            "needs_background": "light"
          }
        }
      ]
    },
    {
      "cell_type": "markdown",
      "metadata": {
        "id": "YgLnlm9biEjU"
      },
      "source": [
        "Como o gráfico mostrou 3 anos muito fora do padrão, pesquisei por motivos para tal. Encontrei vários artigos e estudos que sobre o assunto, confirmando que os dados do gráfico estão certos e esclarescendo que o motivo mais aceito, como explicação para tal aumento dos números de caso de leptospirose, foi um aumento significativo no nível do rio Acre no mesmo período.\n",
        "\n",
        "\"Observa-se  um  aumento  significativo  de  registro  de  casos  de  leptospirose  no  ano  de 2014, com tendência de manutenção no ano de 2015. O referido aumento esteve relacionado diretamente com os episódios de grandes enchentes ocorridas nesses dois anos que atingiram todo o estado, em especial a capital Rio Branco, na região do Baixo Acre e Purus, o município de Brasiléia, no Alto Acre e o município de Cruzeiro do Sul, na região Juruá Tarauacá/ Envira.\"\n",
        "\n",
        "https://www.conass.org.br/pdf/planos-estaduais-de-saude/AC_PES%202016-2019%20-%20SESACRE-%20FINAL.pdf"
      ]
    },
    {
      "cell_type": "markdown",
      "metadata": {
        "id": "NCfRdWLTk3yr"
      },
      "source": [
        "###Tomando o caso do Acre como um outlier\n",
        "\n",
        "Retomei as análises excluindo o estado."
      ]
    },
    {
      "cell_type": "markdown",
      "metadata": {
        "id": "-UL0f8CSle4y"
      },
      "source": [
        "##Analisando casos por milhão de habitantes por UF (excluindo Acre)"
      ]
    },
    {
      "cell_type": "markdown",
      "metadata": {
        "id": "cdu-1ph_l01V"
      },
      "source": [
        "###Visualizando casos por milhão"
      ]
    },
    {
      "cell_type": "code",
      "metadata": {
        "colab": {
          "base_uri": "https://localhost:8080/",
          "height": 351
        },
        "id": "7nxv_cWRkqeN",
        "outputId": "1ad2aada-79de-4374-c873-fca0ccfbaf11"
      },
      "source": [
        "ufnac_por_milhao = uf_por_milhao.drop('AC')\n",
        "ufnac_por_milhao.plot(kind='bar', y='Casos por milhão', figsize=(10,5), rot=0)\n",
        "plt.title(\n",
        "    'Casos de leptospirose, entre 2007 e 2019,\\n'\n",
        "    'por UF* por milhão de habitantes')\n",
        "plt.show()"
      ],
      "execution_count": 23,
      "outputs": [
        {
          "output_type": "display_data",
          "data": {
            "image/png": "[encoded data removed]",
            "text/plain": [
              "<Figure size 720x360 with 1 Axes>"
            ]
          },
          "metadata": {
            "needs_background": "light"
          }
        }
      ]
    },
    {
      "cell_type": "markdown",
      "metadata": {
        "id": "eqN5Br36-An9"
      },
      "source": [
        "Mesmo retirando o Acre, ainda se observa uma grande variação entre estados.\n",
        "\n",
        "Com os dados em ordem decrescente de número de casos, nota-se:\n",
        "\n",
        "- que nas 7 primeiras posições já se encontram estados de 4 das 5 regiões brasileira.\n",
        "- que os 3 estados da região centro-oeste só aparecem nas últimas 5 posições.\n",
        "\n",
        "Sabendo que o centro-oeste é a região onde se encontram mais alagamentos naturais, fica claro que, se há relação dos casos da doença com alagamentos causados por maior volulme de chuvas, os alagamentos no caso são apenas os urbanos."
      ]
    },
    {
      "cell_type": "markdown",
      "metadata": {
        "id": "S7vlStAQnJeT"
      },
      "source": [
        "##Carregando Regiões Metropolitanas, Aglomerações Urbanas e RIDEs"
      ]
    },
    {
      "cell_type": "code",
      "metadata": {
        "colab": {
          "base_uri": "https://localhost:8080/",
          "height": 206
        },
        "id": "r04BeuoKnI_3",
        "outputId": "de5863bb-3c88-4254-c693-4fae5216927d"
      },
      "source": [
        "url = \"https://drive.google.com/uc?id=1zZFXiUXZsjRKaHKz-syPowm3um0UnjtH\"\n",
        "regioes_cru = pd.read_excel(url)\n",
        "regioes_cru.tail()"
      ],
      "execution_count": 24,
      "outputs": [
        {
          "output_type": "execute_result",
          "data": {
            "text/html": [
              "<div>\n",
              "<style scoped>\n",
              "    .dataframe tbody tr th:only-of-type {\n",
              "        vertical-align: middle;\n",
              "    }\n",
              "\n",
              "    .dataframe tbody tr th {\n",
              "        vertical-align: top;\n",
              "    }\n",
              "\n",
              "    .dataframe thead th {\n",
              "        text-align: right;\n",
              "    }\n",
              "</style>\n",
              "<table border=\"1\" class=\"dataframe\">\n",
              "  <thead>\n",
              "    <tr style=\"text-align: right;\">\n",
              "      <th></th>\n",
              "      <th>GRANDE_REG</th>\n",
              "      <th>COD_UF</th>\n",
              "      <th>SIGLA_UF</th>\n",
              "      <th>COD</th>\n",
              "      <th>NOME</th>\n",
              "      <th>TIPO</th>\n",
              "      <th>COD_CAT_ASSOC</th>\n",
              "      <th>CAT_ASSOC</th>\n",
              "      <th>COD_MUN</th>\n",
              "      <th>NOME_MUN</th>\n",
              "      <th>LEG</th>\n",
              "      <th>DATA</th>\n",
              "    </tr>\n",
              "  </thead>\n",
              "  <tbody>\n",
              "    <tr>\n",
              "      <th>1429</th>\n",
              "      <td>Sul</td>\n",
              "      <td>42</td>\n",
              "      <td>SC</td>\n",
              "      <td>4202</td>\n",
              "      <td>Região Metropolitana do Vale do Itajaí</td>\n",
              "      <td>RM</td>\n",
              "      <td>420201</td>\n",
              "      <td>Núcleo Metropolitano</td>\n",
              "      <td>4202404</td>\n",
              "      <td>BLUMENAU</td>\n",
              "      <td>Lei Complementar 162</td>\n",
              "      <td>1998-01-06 00:00:00</td>\n",
              "    </tr>\n",
              "    <tr>\n",
              "      <th>1430</th>\n",
              "      <td>Sul</td>\n",
              "      <td>42</td>\n",
              "      <td>SC</td>\n",
              "      <td>4202</td>\n",
              "      <td>Região Metropolitana do Vale do Itajaí</td>\n",
              "      <td>RM</td>\n",
              "      <td>420201</td>\n",
              "      <td>Núcleo Metropolitano</td>\n",
              "      <td>4205902</td>\n",
              "      <td>GASPAR</td>\n",
              "      <td>Lei Complementar 162</td>\n",
              "      <td>1998-01-06 00:00:00</td>\n",
              "    </tr>\n",
              "    <tr>\n",
              "      <th>1431</th>\n",
              "      <td>Sul</td>\n",
              "      <td>42</td>\n",
              "      <td>SC</td>\n",
              "      <td>4202</td>\n",
              "      <td>Região Metropolitana do Vale do Itajaí</td>\n",
              "      <td>RM</td>\n",
              "      <td>420201</td>\n",
              "      <td>Núcleo Metropolitano</td>\n",
              "      <td>4207502</td>\n",
              "      <td>INDAIAL</td>\n",
              "      <td>Lei Complementar 162</td>\n",
              "      <td>1998-01-06 00:00:00</td>\n",
              "    </tr>\n",
              "    <tr>\n",
              "      <th>1432</th>\n",
              "      <td>Sul</td>\n",
              "      <td>42</td>\n",
              "      <td>SC</td>\n",
              "      <td>4202</td>\n",
              "      <td>Região Metropolitana do Vale do Itajaí</td>\n",
              "      <td>RM</td>\n",
              "      <td>420201</td>\n",
              "      <td>Núcleo Metropolitano</td>\n",
              "      <td>4213203</td>\n",
              "      <td>POMERODE</td>\n",
              "      <td>Lei Complementar 162</td>\n",
              "      <td>1998-01-06 00:00:00</td>\n",
              "    </tr>\n",
              "    <tr>\n",
              "      <th>1433</th>\n",
              "      <td>Sul</td>\n",
              "      <td>42</td>\n",
              "      <td>SC</td>\n",
              "      <td>4202</td>\n",
              "      <td>Região Metropolitana do Vale do Itajaí</td>\n",
              "      <td>RM</td>\n",
              "      <td>420201</td>\n",
              "      <td>Núcleo Metropolitano</td>\n",
              "      <td>4218202</td>\n",
              "      <td>TIMBÓ</td>\n",
              "      <td>Lei Complementar 162</td>\n",
              "      <td>1998-01-06 00:00:00</td>\n",
              "    </tr>\n",
              "  </tbody>\n",
              "</table>\n",
              "</div>"
            ],
            "text/plain": [
              "     GRANDE_REG  COD_UF  ...                   LEG                 DATA\n",
              "1429        Sul      42  ...  Lei Complementar 162  1998-01-06 00:00:00\n",
              "1430        Sul      42  ...  Lei Complementar 162  1998-01-06 00:00:00\n",
              "1431        Sul      42  ...  Lei Complementar 162  1998-01-06 00:00:00\n",
              "1432        Sul      42  ...  Lei Complementar 162  1998-01-06 00:00:00\n",
              "1433        Sul      42  ...  Lei Complementar 162  1998-01-06 00:00:00\n",
              "\n",
              "[5 rows x 12 columns]"
            ]
          },
          "metadata": {},
          "execution_count": 24
        }
      ]
    },
    {
      "cell_type": "markdown",
      "metadata": {
        "id": "5XNhr5ah8xOb"
      },
      "source": [
        "###Montando tabela de população metropolitana por UF"
      ]
    },
    {
      "cell_type": "code",
      "metadata": {
        "colab": {
          "base_uri": "https://localhost:8080/",
          "height": 206
        },
        "id": "xEG7hFkt6qI_",
        "outputId": "3bab8f35-684d-4634-edbf-075f187b46d8"
      },
      "source": [
        "populosos = regioes_cru[['COD_MUN']]\n",
        "populosos.columns = ['id_mun']\n",
        "populosos.tail()"
      ],
      "execution_count": 25,
      "outputs": [
        {
          "output_type": "execute_result",
          "data": {
            "text/html": [
              "<div>\n",
              "<style scoped>\n",
              "    .dataframe tbody tr th:only-of-type {\n",
              "        vertical-align: middle;\n",
              "    }\n",
              "\n",
              "    .dataframe tbody tr th {\n",
              "        vertical-align: top;\n",
              "    }\n",
              "\n",
              "    .dataframe thead th {\n",
              "        text-align: right;\n",
              "    }\n",
              "</style>\n",
              "<table border=\"1\" class=\"dataframe\">\n",
              "  <thead>\n",
              "    <tr style=\"text-align: right;\">\n",
              "      <th></th>\n",
              "      <th>id_mun</th>\n",
              "    </tr>\n",
              "  </thead>\n",
              "  <tbody>\n",
              "    <tr>\n",
              "      <th>1429</th>\n",
              "      <td>4202404</td>\n",
              "    </tr>\n",
              "    <tr>\n",
              "      <th>1430</th>\n",
              "      <td>4205902</td>\n",
              "    </tr>\n",
              "    <tr>\n",
              "      <th>1431</th>\n",
              "      <td>4207502</td>\n",
              "    </tr>\n",
              "    <tr>\n",
              "      <th>1432</th>\n",
              "      <td>4213203</td>\n",
              "    </tr>\n",
              "    <tr>\n",
              "      <th>1433</th>\n",
              "      <td>4218202</td>\n",
              "    </tr>\n",
              "  </tbody>\n",
              "</table>\n",
              "</div>"
            ],
            "text/plain": [
              "       id_mun\n",
              "1429  4202404\n",
              "1430  4205902\n",
              "1431  4207502\n",
              "1432  4213203\n",
              "1433  4218202"
            ]
          },
          "metadata": {},
          "execution_count": 25
        }
      ]
    },
    {
      "cell_type": "code",
      "metadata": {
        "colab": {
          "base_uri": "https://localhost:8080/",
          "height": 238
        },
        "id": "PYKJTkVA8C5K",
        "outputId": "6312b672-220c-4ebc-b40b-4723200b5109"
      },
      "source": [
        "pop_populosos = pd.merge(populacao_limpa, populosos, left_index=True, right_on='id_mun')\n",
        "pop_populosos.set_index('id_mun', inplace=True)\n",
        "pop_populosos.tail()"
      ],
      "execution_count": 26,
      "outputs": [
        {
          "output_type": "execute_result",
          "data": {
            "text/html": [
              "<div>\n",
              "<style scoped>\n",
              "    .dataframe tbody tr th:only-of-type {\n",
              "        vertical-align: middle;\n",
              "    }\n",
              "\n",
              "    .dataframe tbody tr th {\n",
              "        vertical-align: top;\n",
              "    }\n",
              "\n",
              "    .dataframe thead th {\n",
              "        text-align: right;\n",
              "    }\n",
              "</style>\n",
              "<table border=\"1\" class=\"dataframe\">\n",
              "  <thead>\n",
              "    <tr style=\"text-align: right;\">\n",
              "      <th></th>\n",
              "      <th>nome</th>\n",
              "      <th>pessoas</th>\n",
              "      <th>UF</th>\n",
              "    </tr>\n",
              "    <tr>\n",
              "      <th>id_mun</th>\n",
              "      <th></th>\n",
              "      <th></th>\n",
              "      <th></th>\n",
              "    </tr>\n",
              "  </thead>\n",
              "  <tbody>\n",
              "    <tr>\n",
              "      <th>5221403</th>\n",
              "      <td>Trindade</td>\n",
              "      <td>127599</td>\n",
              "      <td>GO</td>\n",
              "    </tr>\n",
              "    <tr>\n",
              "      <th>5221858</th>\n",
              "      <td>Valparaíso de Goiás</td>\n",
              "      <td>168468</td>\n",
              "      <td>GO</td>\n",
              "    </tr>\n",
              "    <tr>\n",
              "      <th>5222203</th>\n",
              "      <td>Vila Boa</td>\n",
              "      <td>6171</td>\n",
              "      <td>GO</td>\n",
              "    </tr>\n",
              "    <tr>\n",
              "      <th>5222302</th>\n",
              "      <td>Vila Propício</td>\n",
              "      <td>5821</td>\n",
              "      <td>GO</td>\n",
              "    </tr>\n",
              "    <tr>\n",
              "      <th>5300108</th>\n",
              "      <td>Brasília</td>\n",
              "      <td>3015268</td>\n",
              "      <td>DF</td>\n",
              "    </tr>\n",
              "  </tbody>\n",
              "</table>\n",
              "</div>"
            ],
            "text/plain": [
              "                        nome  pessoas  UF\n",
              "id_mun                                   \n",
              "5221403             Trindade   127599  GO\n",
              "5221858  Valparaíso de Goiás   168468  GO\n",
              "5222203             Vila Boa     6171  GO\n",
              "5222302        Vila Propício     5821  GO\n",
              "5300108             Brasília  3015268  DF"
            ]
          },
          "metadata": {},
          "execution_count": 26
        }
      ]
    },
    {
      "cell_type": "code",
      "metadata": {
        "colab": {
          "base_uri": "https://localhost:8080/",
          "height": 238
        },
        "id": "eOAgGBQzDwM-",
        "outputId": "11289c93-ac36-46ae-c44e-40ad37a20717"
      },
      "source": [
        "uf_populosos = pop_populosos.groupby(['UF']).sum()\n",
        "uf_populosos.head()"
      ],
      "execution_count": 27,
      "outputs": [
        {
          "output_type": "execute_result",
          "data": {
            "text/html": [
              "<div>\n",
              "<style scoped>\n",
              "    .dataframe tbody tr th:only-of-type {\n",
              "        vertical-align: middle;\n",
              "    }\n",
              "\n",
              "    .dataframe tbody tr th {\n",
              "        vertical-align: top;\n",
              "    }\n",
              "\n",
              "    .dataframe thead th {\n",
              "        text-align: right;\n",
              "    }\n",
              "</style>\n",
              "<table border=\"1\" class=\"dataframe\">\n",
              "  <thead>\n",
              "    <tr style=\"text-align: right;\">\n",
              "      <th></th>\n",
              "      <th>pessoas</th>\n",
              "    </tr>\n",
              "    <tr>\n",
              "      <th>UF</th>\n",
              "      <th></th>\n",
              "    </tr>\n",
              "  </thead>\n",
              "  <tbody>\n",
              "    <tr>\n",
              "      <th>AL</th>\n",
              "      <td>2981291</td>\n",
              "    </tr>\n",
              "    <tr>\n",
              "      <th>AM</th>\n",
              "      <td>2676936</td>\n",
              "    </tr>\n",
              "    <tr>\n",
              "      <th>AP</th>\n",
              "      <td>646323</td>\n",
              "    </tr>\n",
              "    <tr>\n",
              "      <th>BA</th>\n",
              "      <td>5192288</td>\n",
              "    </tr>\n",
              "    <tr>\n",
              "      <th>CE</th>\n",
              "      <td>5213118</td>\n",
              "    </tr>\n",
              "  </tbody>\n",
              "</table>\n",
              "</div>"
            ],
            "text/plain": [
              "    pessoas\n",
              "UF         \n",
              "AL  2981291\n",
              "AM  2676936\n",
              "AP   646323\n",
              "BA  5192288\n",
              "CE  5213118"
            ]
          },
          "metadata": {},
          "execution_count": 27
        }
      ]
    },
    {
      "cell_type": "markdown",
      "metadata": {
        "id": "NkcxS3OQENrk"
      },
      "source": [
        "##Analisando casos por milhão de habitantes de munipipios populosos por UF"
      ]
    },
    {
      "cell_type": "markdown",
      "metadata": {
        "id": "JmpYsa7JHHNO"
      },
      "source": [
        "###Montando tabela"
      ]
    },
    {
      "cell_type": "code",
      "metadata": {
        "colab": {
          "base_uri": "https://localhost:8080/",
          "height": 206
        },
        "id": "IqCJ_r-sESUH",
        "outputId": "3b538ff4-6b49-492a-f38b-0fb2fc313dae"
      },
      "source": [
        "ufnac_tot = uf2_tot.drop('AC')\n",
        "uf_por_milhao_pop = pd.concat([ufnac_tot, uf_populosos], axis=1)\n",
        "uf_por_milhao_pop = uf_por_milhao_pop.fillna(0)\n",
        "uf_por_milhao_pop_0 = uf_por_milhao_pop[uf_por_milhao_pop['pessoas'] == 0]\n",
        "uf_por_milhao_pop = uf_por_milhao_pop[uf_por_milhao_pop['pessoas'] > 0]\n",
        "uf_por_milhao_pop['Casos por milhão'] = (uf_por_milhao_pop['Casos'] / uf_por_milhao_pop['pessoas'] * 1000000).astype(int)\n",
        "uf_por_milhao_pop.sort_values(by='Casos por milhão', ascending=False, inplace=True)\n",
        "uf_por_milhao_pop.head()"
      ],
      "execution_count": 28,
      "outputs": [
        {
          "output_type": "execute_result",
          "data": {
            "text/html": [
              "<div>\n",
              "<style scoped>\n",
              "    .dataframe tbody tr th:only-of-type {\n",
              "        vertical-align: middle;\n",
              "    }\n",
              "\n",
              "    .dataframe tbody tr th {\n",
              "        vertical-align: top;\n",
              "    }\n",
              "\n",
              "    .dataframe thead th {\n",
              "        text-align: right;\n",
              "    }\n",
              "</style>\n",
              "<table border=\"1\" class=\"dataframe\">\n",
              "  <thead>\n",
              "    <tr style=\"text-align: right;\">\n",
              "      <th></th>\n",
              "      <th>Casos</th>\n",
              "      <th>pessoas</th>\n",
              "      <th>Casos por milhão</th>\n",
              "    </tr>\n",
              "  </thead>\n",
              "  <tbody>\n",
              "    <tr>\n",
              "      <th>AP</th>\n",
              "      <td>830</td>\n",
              "      <td>646323.0</td>\n",
              "      <td>1284</td>\n",
              "    </tr>\n",
              "    <tr>\n",
              "      <th>RO</th>\n",
              "      <td>585</td>\n",
              "      <td>556237.0</td>\n",
              "      <td>1051</td>\n",
              "    </tr>\n",
              "    <tr>\n",
              "      <th>ES</th>\n",
              "      <td>1830</td>\n",
              "      <td>1979337.0</td>\n",
              "      <td>924</td>\n",
              "    </tr>\n",
              "    <tr>\n",
              "      <th>RS</th>\n",
              "      <td>5339</td>\n",
              "      <td>6139993.0</td>\n",
              "      <td>869</td>\n",
              "    </tr>\n",
              "    <tr>\n",
              "      <th>SC</th>\n",
              "      <td>5341</td>\n",
              "      <td>7164788.0</td>\n",
              "      <td>745</td>\n",
              "    </tr>\n",
              "  </tbody>\n",
              "</table>\n",
              "</div>"
            ],
            "text/plain": [
              "    Casos    pessoas  Casos por milhão\n",
              "AP    830   646323.0              1284\n",
              "RO    585   556237.0              1051\n",
              "ES   1830  1979337.0               924\n",
              "RS   5339  6139993.0               869\n",
              "SC   5341  7164788.0               745"
            ]
          },
          "metadata": {},
          "execution_count": 28
        }
      ]
    },
    {
      "cell_type": "markdown",
      "metadata": {
        "id": "fdzwSVBAHJ1W"
      },
      "source": [
        "###Visualizando casos por milhão de habitantes de munipipios populosos por UF"
      ]
    },
    {
      "cell_type": "code",
      "metadata": {
        "colab": {
          "base_uri": "https://localhost:8080/",
          "height": 366
        },
        "id": "ji7RQIDiHP_K",
        "outputId": "20df398e-3253-41d6-c11f-7a4991766d65"
      },
      "source": [
        "uf_por_milhao_pop.plot(kind='bar', y='Casos por milhão', figsize=(10,5), rot=0)\n",
        "plt.title(\n",
        "    'Casos de leptospirose, entre 2007 e 2019,\\n'\n",
        "    'por UF por milhão de habitantes\\n'\n",
        "    'em municípios populosos')\n",
        "plt.show()"
      ],
      "execution_count": 29,
      "outputs": [
        {
          "output_type": "display_data",
          "data": {
            "image/png": "[encoded data removed]",
            "text/plain": [
              "<Figure size 720x360 with 1 Axes>"
            ]
          },
          "metadata": {
            "needs_background": "light"
          }
        }
      ]
    },
    {
      "cell_type": "markdown",
      "metadata": {
        "id": "AMdVO51hLAEL"
      },
      "source": [
        "###Revendo gráfico de casos por milhão de habitantes por UF, com exclusão do Acre, outlier, e do Mato Grosso so Sul, que não tem nenhum minicipio na seleção feita acima."
      ]
    },
    {
      "cell_type": "code",
      "metadata": {
        "colab": {
          "base_uri": "https://localhost:8080/",
          "height": 366
        },
        "id": "HfTYeSeNH92Y",
        "outputId": "50ba5fdd-43cc-4af9-c0ef-b77ac72c9b31"
      },
      "source": [
        "ufnac_por_milhao = uf_por_milhao.drop('AC')\n",
        "ufnac_por_milhao = ufnac_por_milhao.drop('MS')\n",
        "ufnac_por_milhao.sort_values(by='Casos por milhão', ascending=False, inplace=True)\n",
        "ufnac_por_milhao.plot(kind='bar', y='Casos por milhão', figsize=(10,5), rot=0)\n",
        "plt.title(\n",
        "    'Casos de leptospirose, entre 2007 e 2019,\\n'\n",
        "    'por UF por milhão de habitantes,\\n'\n",
        "    'ordenado por número de casos por milhão')\n",
        "plt.show()"
      ],
      "execution_count": 30,
      "outputs": [
        {
          "output_type": "display_data",
          "data": {
            "image/png": "[encoded data removed]",
            "text/plain": [
              "<Figure size 720x360 with 1 Axes>"
            ]
          },
          "metadata": {
            "needs_background": "light"
          }
        }
      ]
    },
    {
      "cell_type": "markdown",
      "metadata": {
        "id": "9PJqFJwKLaWv"
      },
      "source": [
        "###Comparando métricas\n",
        "\n",
        "- casos por milhão"
      ]
    },
    {
      "cell_type": "code",
      "metadata": {
        "colab": {
          "base_uri": "https://localhost:8080/",
          "height": 300
        },
        "id": "JdQsbO36IwkC",
        "outputId": "a071f962-d7ea-4163-eb5e-56b8340e092e"
      },
      "source": [
        "ufnac_por_milhao.describe()"
      ],
      "execution_count": 31,
      "outputs": [
        {
          "output_type": "execute_result",
          "data": {
            "text/html": [
              "<div>\n",
              "<style scoped>\n",
              "    .dataframe tbody tr th:only-of-type {\n",
              "        vertical-align: middle;\n",
              "    }\n",
              "\n",
              "    .dataframe tbody tr th {\n",
              "        vertical-align: top;\n",
              "    }\n",
              "\n",
              "    .dataframe thead th {\n",
              "        text-align: right;\n",
              "    }\n",
              "</style>\n",
              "<table border=\"1\" class=\"dataframe\">\n",
              "  <thead>\n",
              "    <tr style=\"text-align: right;\">\n",
              "      <th></th>\n",
              "      <th>Casos</th>\n",
              "      <th>pessoas</th>\n",
              "      <th>Casos por milhão</th>\n",
              "    </tr>\n",
              "  </thead>\n",
              "  <tbody>\n",
              "    <tr>\n",
              "      <th>count</th>\n",
              "      <td>25.000000</td>\n",
              "      <td>2.500000e+01</td>\n",
              "      <td>25.000000</td>\n",
              "    </tr>\n",
              "    <tr>\n",
              "      <th>mean</th>\n",
              "      <td>1452.880000</td>\n",
              "      <td>8.259448e+06</td>\n",
              "      <td>199.600000</td>\n",
              "    </tr>\n",
              "    <tr>\n",
              "      <th>std</th>\n",
              "      <td>1929.577983</td>\n",
              "      <td>9.458074e+06</td>\n",
              "      <td>240.474011</td>\n",
              "    </tr>\n",
              "    <tr>\n",
              "      <th>min</th>\n",
              "      <td>16.000000</td>\n",
              "      <td>6.057610e+05</td>\n",
              "      <td>14.000000</td>\n",
              "    </tr>\n",
              "    <tr>\n",
              "      <th>25%</th>\n",
              "      <td>151.000000</td>\n",
              "      <td>3.273227e+06</td>\n",
              "      <td>41.000000</td>\n",
              "    </tr>\n",
              "    <tr>\n",
              "      <th>50%</th>\n",
              "      <td>661.000000</td>\n",
              "      <td>4.144597e+06</td>\n",
              "      <td>116.000000</td>\n",
              "    </tr>\n",
              "    <tr>\n",
              "      <th>75%</th>\n",
              "      <td>1830.000000</td>\n",
              "      <td>9.557071e+06</td>\n",
              "      <td>227.000000</td>\n",
              "    </tr>\n",
              "    <tr>\n",
              "      <th>max</th>\n",
              "      <td>7233.000000</td>\n",
              "      <td>4.591905e+07</td>\n",
              "      <td>981.000000</td>\n",
              "    </tr>\n",
              "  </tbody>\n",
              "</table>\n",
              "</div>"
            ],
            "text/plain": [
              "             Casos       pessoas  Casos por milhão\n",
              "count    25.000000  2.500000e+01         25.000000\n",
              "mean   1452.880000  8.259448e+06        199.600000\n",
              "std    1929.577983  9.458074e+06        240.474011\n",
              "min      16.000000  6.057610e+05         14.000000\n",
              "25%     151.000000  3.273227e+06         41.000000\n",
              "50%     661.000000  4.144597e+06        116.000000\n",
              "75%    1830.000000  9.557071e+06        227.000000\n",
              "max    7233.000000  4.591905e+07        981.000000"
            ]
          },
          "metadata": {},
          "execution_count": 31
        }
      ]
    },
    {
      "cell_type": "markdown",
      "metadata": {
        "id": "oCjA9CDXMgUz"
      },
      "source": [
        "- casos por milhão, contando apenas municipios populosos"
      ]
    },
    {
      "cell_type": "code",
      "metadata": {
        "colab": {
          "base_uri": "https://localhost:8080/",
          "height": 300
        },
        "id": "lPSgVjz0KDY7",
        "outputId": "64be0344-30c6-429c-ad2c-e14807862b44"
      },
      "source": [
        "uf_por_milhao_pop.describe()"
      ],
      "execution_count": 32,
      "outputs": [
        {
          "output_type": "execute_result",
          "data": {
            "text/html": [
              "<div>\n",
              "<style scoped>\n",
              "    .dataframe tbody tr th:only-of-type {\n",
              "        vertical-align: middle;\n",
              "    }\n",
              "\n",
              "    .dataframe tbody tr th {\n",
              "        vertical-align: top;\n",
              "    }\n",
              "\n",
              "    .dataframe thead th {\n",
              "        text-align: right;\n",
              "    }\n",
              "</style>\n",
              "<table border=\"1\" class=\"dataframe\">\n",
              "  <thead>\n",
              "    <tr style=\"text-align: right;\">\n",
              "      <th></th>\n",
              "      <th>Casos</th>\n",
              "      <th>pessoas</th>\n",
              "      <th>Casos por milhão</th>\n",
              "    </tr>\n",
              "  </thead>\n",
              "  <tbody>\n",
              "    <tr>\n",
              "      <th>count</th>\n",
              "      <td>25.000000</td>\n",
              "      <td>2.500000e+01</td>\n",
              "      <td>25.000000</td>\n",
              "    </tr>\n",
              "    <tr>\n",
              "      <th>mean</th>\n",
              "      <td>1452.880000</td>\n",
              "      <td>4.896714e+06</td>\n",
              "      <td>345.720000</td>\n",
              "    </tr>\n",
              "    <tr>\n",
              "      <th>std</th>\n",
              "      <td>1929.577983</td>\n",
              "      <td>7.160217e+06</td>\n",
              "      <td>358.405557</td>\n",
              "    </tr>\n",
              "    <tr>\n",
              "      <th>min</th>\n",
              "      <td>16.000000</td>\n",
              "      <td>5.537150e+05</td>\n",
              "      <td>28.000000</td>\n",
              "    </tr>\n",
              "    <tr>\n",
              "      <th>25%</th>\n",
              "      <td>151.000000</td>\n",
              "      <td>1.054795e+06</td>\n",
              "      <td>76.000000</td>\n",
              "    </tr>\n",
              "    <tr>\n",
              "      <th>50%</th>\n",
              "      <td>661.000000</td>\n",
              "      <td>2.981291e+06</td>\n",
              "      <td>199.000000</td>\n",
              "    </tr>\n",
              "    <tr>\n",
              "      <th>75%</th>\n",
              "      <td>1830.000000</td>\n",
              "      <td>5.213118e+06</td>\n",
              "      <td>488.000000</td>\n",
              "    </tr>\n",
              "    <tr>\n",
              "      <th>max</th>\n",
              "      <td>7233.000000</td>\n",
              "      <td>3.625506e+07</td>\n",
              "      <td>1284.000000</td>\n",
              "    </tr>\n",
              "  </tbody>\n",
              "</table>\n",
              "</div>"
            ],
            "text/plain": [
              "             Casos       pessoas  Casos por milhão\n",
              "count    25.000000  2.500000e+01         25.000000\n",
              "mean   1452.880000  4.896714e+06        345.720000\n",
              "std    1929.577983  7.160217e+06        358.405557\n",
              "min      16.000000  5.537150e+05         28.000000\n",
              "25%     151.000000  1.054795e+06         76.000000\n",
              "50%     661.000000  2.981291e+06        199.000000\n",
              "75%    1830.000000  5.213118e+06        488.000000\n",
              "max    7233.000000  3.625506e+07       1284.000000"
            ]
          },
          "metadata": {},
          "execution_count": 32
        }
      ]
    },
    {
      "cell_type": "code",
      "metadata": {
        "colab": {
          "base_uri": "https://localhost:8080/"
        },
        "id": "PJPn0nWaMGND",
        "outputId": "a32d4741-05ab-40bb-e944-3de94a7d6431"
      },
      "source": [
        "aumento_std = (uf_por_milhao_pop['Casos por milhão'].std() / ufnac_por_milhao['Casos por milhão'].std() - 1) * 100\n",
        "print(f\"Aumento do desvio padrão: {aumento_std:.2f}%\")"
      ],
      "execution_count": 33,
      "outputs": [
        {
          "output_type": "stream",
          "name": "stdout",
          "text": [
            "Aumento do desvio padrão: 49.04%\n"
          ]
        }
      ]
    },
    {
      "cell_type": "markdown",
      "metadata": {
        "id": "mznvV6bOLf7V"
      },
      "source": [
        "Na segunda análise o desvio padrão ficou praticamente 50% maior, mostrando maior padrão dos dados entre todos os estados.\n",
        "\n",
        "#Conclusão\n",
        "\n",
        "A análise feita, sobre os dados disponíveis, confirma a afirmação de que há uma relação entre o tamanho das áreas metropolitanas e o número de casos de leptospirose."
      ]
    },
    {
      "cell_type": "markdown",
      "metadata": {
        "id": "1gTEAJWSXQVD"
      },
      "source": [
        "##Possível desenvolvimento\n",
        "\n",
        "Esta análise se ateve a analisar os casos totais dos estados. Para chegar a uma analise mais precisa poderíamos utilizar as quantidades de casos espefícicamente dos municípios mais populosos. "
      ]
    }
  ]
}